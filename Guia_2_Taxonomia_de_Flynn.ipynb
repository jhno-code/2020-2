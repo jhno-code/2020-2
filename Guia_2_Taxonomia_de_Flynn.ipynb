{
  "nbformat": 4,
  "nbformat_minor": 0,
  "metadata": {
    "colab": {
      "name": "Guia #2: Taxonomia de Flynn",
      "provenance": [],
      "include_colab_link": true
    },
    "kernelspec": {
      "name": "python3",
      "display_name": "Python 3"
    }
  },
  "cells": [
    {
      "cell_type": "markdown",
      "metadata": {
        "id": "view-in-github",
        "colab_type": "text"
      },
      "source": [
        "<a href=\"https://colab.research.google.com/github/jhno-code/2020-2/blob/main/Guia_2_Taxonomia_de_Flynn.ipynb\" target=\"_parent\"><img src=\"https://colab.research.google.com/assets/colab-badge.svg\" alt=\"Open In Colab\"/></a>"
      ]
    },
    {
      "cell_type": "markdown",
      "metadata": {
        "id": "xCCs96_aEFrD"
      },
      "source": [
        "El siguiente código va a permitir que todo código ejecutado en el colab pueda ser medido"
      ]
    },
    {
      "cell_type": "code",
      "metadata": {
        "colab": {
          "base_uri": "https://localhost:8080/"
        },
        "id": "91EQIkYNzfIU",
        "outputId": "c321c373-8c3a-42a4-e421-62fee5fe1ffd"
      },
      "source": [
        "!pip install ipython-autotime\r\n",
        "!pip install pyro-ppl\r\n",
        "\r\n",
        "%load_ext autotime\r\n",
        "%reload_ext autotime"
      ],
      "execution_count": null,
      "outputs": [
        {
          "output_type": "stream",
          "text": [
            "Requirement already satisfied: ipython-autotime in /usr/local/lib/python3.6/dist-packages (0.2.0)\n",
            "Requirement already satisfied: ipython in /usr/local/lib/python3.6/dist-packages (from ipython-autotime) (5.5.0)\n",
            "Requirement already satisfied: simplegeneric>0.8 in /usr/local/lib/python3.6/dist-packages (from ipython->ipython-autotime) (0.8.1)\n",
            "Requirement already satisfied: pexpect; sys_platform != \"win32\" in /usr/local/lib/python3.6/dist-packages (from ipython->ipython-autotime) (4.8.0)\n",
            "Requirement already satisfied: pygments in /usr/local/lib/python3.6/dist-packages (from ipython->ipython-autotime) (2.6.1)\n",
            "Requirement already satisfied: setuptools>=18.5 in /usr/local/lib/python3.6/dist-packages (from ipython->ipython-autotime) (50.3.2)\n",
            "Requirement already satisfied: traitlets>=4.2 in /usr/local/lib/python3.6/dist-packages (from ipython->ipython-autotime) (4.3.3)\n",
            "Requirement already satisfied: decorator in /usr/local/lib/python3.6/dist-packages (from ipython->ipython-autotime) (4.4.2)\n",
            "Requirement already satisfied: pickleshare in /usr/local/lib/python3.6/dist-packages (from ipython->ipython-autotime) (0.7.5)\n",
            "Requirement already satisfied: prompt-toolkit<2.0.0,>=1.0.4 in /usr/local/lib/python3.6/dist-packages (from ipython->ipython-autotime) (1.0.18)\n",
            "Requirement already satisfied: ptyprocess>=0.5 in /usr/local/lib/python3.6/dist-packages (from pexpect; sys_platform != \"win32\"->ipython->ipython-autotime) (0.6.0)\n",
            "Requirement already satisfied: ipython-genutils in /usr/local/lib/python3.6/dist-packages (from traitlets>=4.2->ipython->ipython-autotime) (0.2.0)\n",
            "Requirement already satisfied: six in /usr/local/lib/python3.6/dist-packages (from traitlets>=4.2->ipython->ipython-autotime) (1.15.0)\n",
            "Requirement already satisfied: wcwidth in /usr/local/lib/python3.6/dist-packages (from prompt-toolkit<2.0.0,>=1.0.4->ipython->ipython-autotime) (0.2.5)\n",
            "Requirement already satisfied: pyro-ppl in /usr/local/lib/python3.6/dist-packages (1.5.1)\n",
            "Requirement already satisfied: pyro-api>=0.1.1 in /usr/local/lib/python3.6/dist-packages (from pyro-ppl) (0.1.2)\n",
            "Requirement already satisfied: numpy>=1.7 in /usr/local/lib/python3.6/dist-packages (from pyro-ppl) (1.18.5)\n",
            "Requirement already satisfied: opt-einsum>=2.3.2 in /usr/local/lib/python3.6/dist-packages (from pyro-ppl) (3.3.0)\n",
            "Requirement already satisfied: tqdm>=4.36 in /usr/local/lib/python3.6/dist-packages (from pyro-ppl) (4.41.1)\n",
            "Requirement already satisfied: torch>=1.6.0 in /usr/local/lib/python3.6/dist-packages (from pyro-ppl) (1.7.0+cu101)\n",
            "Requirement already satisfied: typing-extensions in /usr/local/lib/python3.6/dist-packages (from torch>=1.6.0->pyro-ppl) (3.7.4.3)\n",
            "Requirement already satisfied: dataclasses in /usr/local/lib/python3.6/dist-packages (from torch>=1.6.0->pyro-ppl) (0.8)\n",
            "Requirement already satisfied: future in /usr/local/lib/python3.6/dist-packages (from torch>=1.6.0->pyro-ppl) (0.16.0)\n",
            "The autotime extension is already loaded. To reload it, use:\n",
            "  %reload_ext autotime\n",
            "time: 125 µs\n"
          ],
          "name": "stdout"
        }
      ]
    },
    {
      "cell_type": "code",
      "metadata": {
        "colab": {
          "base_uri": "https://localhost:8080/"
        },
        "id": "EfRNKumpFJaN",
        "outputId": "b9701bd8-636a-409f-f2c2-0727067b17ec"
      },
      "source": [
        "print(sum(range(10)))"
      ],
      "execution_count": null,
      "outputs": [
        {
          "output_type": "stream",
          "text": [
            "45\n",
            "time: 880 µs\n"
          ],
          "name": "stdout"
        }
      ]
    },
    {
      "cell_type": "markdown",
      "metadata": {
        "id": "u1gd4K6TFdSn"
      },
      "source": [
        "Pregunta #1: Que porción de 1 segundo es el valor impreso? </br>\n",
        "880 µs equivale a 880 microsegundos"
      ]
    },
    {
      "cell_type": "markdown",
      "metadata": {
        "id": "_Hl8sQD1HMKz"
      },
      "source": [
        "\r\n",
        "---\r\n",
        "\r\n"
      ]
    },
    {
      "cell_type": "markdown",
      "metadata": {
        "id": "06N5iGs0F-KK"
      },
      "source": [
        "A seguir, tenemos una librería de Python llamado **numba** que realiza paralelización automatica. Asi, se puede verificar que al usar prange() se tiene mejor tiempo de ejecución que al usar range()"
      ]
    },
    {
      "cell_type": "code",
      "metadata": {
        "colab": {
          "base_uri": "https://localhost:8080/"
        },
        "id": "4pfRIJ1ajxKD",
        "outputId": "e6dd358c-f057-4801-d5e3-558681bf49e1"
      },
      "source": [
        "from numba import njit, prange\r\n",
        "import numpy as np\r\n",
        "\r\n",
        "A = np.arange(1, 14000000)\r\n",
        "@njit(parallel=True)\r\n",
        "def prange_test(A):\r\n",
        "    s = 0\r\n",
        "    # Without \"parallel=True\" in the jit-decorator\r\n",
        "    # the prange statement is equivalent to range\r\n",
        "    for i in prange(A.shape[0]):\r\n",
        "        s += A[i]\r\n",
        "    return s\r\n",
        "\r\n",
        "print(prange_test(A))"
      ],
      "execution_count": null,
      "outputs": [
        {
          "output_type": "stream",
          "text": [
            "97999993000000\n",
            "time: 345 ms\n"
          ],
          "name": "stdout"
        }
      ]
    },
    {
      "cell_type": "code",
      "metadata": {
        "colab": {
          "base_uri": "https://localhost:8080/"
        },
        "id": "pmy4BS66k4TB",
        "outputId": "2bfed6d6-3034-4ce0-9352-e17bba57c7ad"
      },
      "source": [
        "from numba import njit, prange\r\n",
        "\r\n",
        "A = np.arange(1, 14000000)\r\n",
        "#@njit(parallel=True)\r\n",
        "def prange_test(A):\r\n",
        "    s = 0\r\n",
        "    # Without \"parallel=True\" in the jit-decorator\r\n",
        "    # the prange statement is equivalent to range\r\n",
        "    for i in range(A.shape[0]):\r\n",
        "        s += A[i]\r\n",
        "    return s\r\n",
        "\r\n",
        "print(prange_test(A))\r\n",
        "\r\n"
      ],
      "execution_count": null,
      "outputs": [
        {
          "output_type": "stream",
          "text": [
            "97999993000000\n",
            "time: 3.55 s\n"
          ],
          "name": "stdout"
        }
      ]
    },
    {
      "cell_type": "markdown",
      "metadata": {
        "id": "QAl9s67VKzEh"
      },
      "source": [
        "Pregunta #2: identifique otros valores en A, de manera que, serializando, tengamos mejor resultado que paralelizando <br>\n",
        "*** Para una cantidad de valores de A menor a 1000000 aproximadamente se tienen mejores resultados serializando que paralelizando"
      ]
    },
    {
      "cell_type": "markdown",
      "metadata": {
        "id": "qk5RRK--LK8H"
      },
      "source": [
        "\r\n",
        "\r\n",
        "---\r\n",
        "\r\n"
      ]
    },
    {
      "cell_type": "markdown",
      "metadata": {
        "id": "vcEN_PS4LOTq"
      },
      "source": [
        "La Taxonomia de Flynn define 4 tipos de arquitecturas para computación paralela: SISD, SIMD, MISD, y MIMD.\r\n",
        "---\r\n",
        "Pregunta #3 : El ultimo código ejecutado es de tipo?\r\n",
        "--\r\n",
        "*** Del tipo SISD"
      ]
    },
    {
      "cell_type": "markdown",
      "metadata": {
        "id": "Hz_y6QaKM_LQ"
      },
      "source": [
        "\r\n",
        "\r\n",
        "---\r\n",
        "\r\n"
      ]
    },
    {
      "cell_type": "markdown",
      "metadata": {
        "id": "rbyAXmF5NDlv"
      },
      "source": [
        "Pregunta #4: el siguiente código paralelo es de tipo? Comentar el código para justificar su respuesta"
      ]
    },
    {
      "cell_type": "code",
      "metadata": {
        "colab": {
          "base_uri": "https://localhost:8080/"
        },
        "id": "J4GKbs1mLeVp",
        "outputId": "0f4f74a1-a3e3-4fb9-e953-870cdf2f7db6"
      },
      "source": [
        "# Importar librerias\r\n",
        "import threading\r\n",
        "import time\r\n",
        "\r\n",
        "# Funcion imprime hilo y tiempo\r\n",
        "def print_time(name, n):\r\n",
        "    count = 0   \r\n",
        "    print(\"Para el Hilo: %s, en el momento: %s, su valor de count es: %s\" % ( name, time.ctime(), count))\r\n",
        "    while count < 5:\r\n",
        "        time.sleep(n)\r\n",
        "        count+=1\r\n",
        "        print(\"%s: %s. count %s\" % ( name, time.ctime(), count))\r\n",
        "\r\n",
        "# Crear hilos\r\n",
        "t1 = threading.Thread(target=print_time, args=(\"Thread-1\", 0, ) )\r\n",
        "t2 = threading.Thread(target=print_time, args=(\"Thread-2\", 0, ) )\r\n",
        "# Iniciar hilos\r\n",
        "t1.start()\r\n",
        "t2.start()"
      ],
      "execution_count": null,
      "outputs": [
        {
          "output_type": "stream",
          "text": [
            "Para el Hilo: Thread-1, en el momento: Wed Dec  9 15:27:42 2020, su valor de count es: 0\n",
            "Thread-1: Wed Dec  9 15:27:42 2020. count 1\n",
            "Thread-1: Wed Dec  9 15:27:42 2020. count 2\n",
            "Thread-1: Wed Dec  9 15:27:42 2020. count 3\n",
            "Thread-1: Wed Dec  9 15:27:42 2020. count 4\n",
            "Thread-1: Wed Dec  9 15:27:42 2020. count 5\n",
            "Para el Hilo: Thread-2, en el momento: Wed Dec  9 15:27:42 2020, su valor de count es: 0time: 12.9 ms\n",
            "\n",
            "Thread-2: Wed Dec  9 15:27:42 2020. count 1\n",
            "Thread-2: Wed Dec  9 15:27:42 2020. count 2\n",
            "Thread-2: Wed Dec  9 15:27:42 2020. count 3\n",
            "Thread-2: Wed Dec  9 15:27:42 2020. count 4\n",
            "Thread-2: Wed Dec  9 15:27:42 2020. count 5\n"
          ],
          "name": "stdout"
        }
      ]
    },
    {
      "cell_type": "markdown",
      "metadata": {
        "id": "ywuZ_EiuJHqB"
      },
      "source": [
        "El código anterior es SIMD ya que solo se tiene una instruccion \"prin_time()\" y múltiples datos \"thread-1\" y \"thread-2\""
      ]
    },
    {
      "cell_type": "markdown",
      "metadata": {
        "id": "kj5mNpdml0F4"
      },
      "source": [
        "\r\n",
        "\r\n",
        "---\r\n",
        "\r\n"
      ]
    },
    {
      "cell_type": "markdown",
      "metadata": {
        "id": "BjPhiBi7k9CH"
      },
      "source": [
        "Una computadora paralela tipo MIMD es utilizado más en la computación distribuida, ejm. Clusters. El siguiente código en python desktop muestra tal funcionamiento"
      ]
    },
    {
      "cell_type": "code",
      "metadata": {
        "id": "3BKSrHpylh-J"
      },
      "source": [
        "#greeting-server.py\r\n",
        "import Pyro4\r\n",
        "\r\n",
        "@Pyro4.expose\r\n",
        "class GreetingMaker(object):\r\n",
        "    def get_fortune(self, name):\r\n",
        "        return \"Hello, {0}. Here is your fortune message:\\n\" \\\r\n",
        "               \"Behold the warranty -- the bold print giveth and the fine print taketh away.\".format(name)\r\n",
        "\r\n",
        "daemon = Pyro4.Daemon()                # make a Pyro daemon\r\n",
        "uri = daemon.register(GreetingMaker)   # register the greeting maker as a Pyro object\r\n",
        "\r\n",
        "print(\"Ready. Object uri =\", uri)      # print the uri so we can use it in the client later\r\n",
        "daemon.requestLoop()                   # start the event loop of the server to wait for calls"
      ],
      "execution_count": null,
      "outputs": []
    },
    {
      "cell_type": "code",
      "metadata": {
        "id": "UrqRam3ulrvh"
      },
      "source": [
        "#greeting-client.py\r\n",
        "import Pyro4\r\n",
        "\r\n",
        "uri = input(\"What is the Pyro uri of the greeting object? \").strip()\r\n",
        "name = input(\"What is your name? \").strip()\r\n",
        "\r\n",
        "greeting_maker = Pyro4.Proxy(uri)         # get a Pyro proxy to the greeting object\r\n",
        "print(greeting_maker.get_fortune(name))   # call method normally"
      ],
      "execution_count": null,
      "outputs": []
    },
    {
      "cell_type": "markdown",
      "metadata": {
        "id": "h177eMCuqEJq"
      },
      "source": [
        "Pregunta #5: Explique que hace este código de tipo MIMD"
      ]
    },
    {
      "cell_type": "markdown",
      "metadata": {
        "id": "_HCLCk5Zdvft"
      },
      "source": [
        ""
      ]
    },
    {
      "cell_type": "markdown",
      "metadata": {
        "id": "xPk19-hIqNiY"
      },
      "source": [
        "**greeting-client.py**<br>\r\n",
        "Tiene una clase GreetingMaker que se utilizará para mostrar el saludo junto a un nombre que será dado por el usuario.<br>\r\n",
        "Al correr *greeting-client.py* mostrará una direccion única que se usará en el cliente<br>\r\n",
        "**greeting-client.py**<br>\r\n",
        "Pide una direccion(única) al usuario<br>\r\n",
        "Pregunta el nombre del usuario<br>\r\n",
        "Con la direccion única accede al servidor para obtener la clase greetingMaker<br>\r\n",
        "Imprime el mensaje de saludo llamando al método get_fortune() dandole el nombre antes pedido<br>\r\n",
        "\r\n",
        "Se tienen dos datos: *nombre del usuario* y *direccion del servidor*<br>\r\n",
        "Se tienen instrucciones: *Mostrar saludo*, *conectarse al servidor*\r\n",
        "\r\n",
        "![1.png](data:image/png;base64,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)\r\n",
        "\r\n",
        "---\r\n",
        "\r\n"
      ]
    },
    {
      "cell_type": "markdown",
      "metadata": {
        "id": "XPRR57WRNb3M"
      },
      "source": [
        "Ejercicio Propuesto: Crear un ejemplo que muestre una computación paralela de tipo MISD"
      ]
    },
    {
      "cell_type": "code",
      "metadata": {
        "id": "F_n7n-qbQvC-"
      },
      "source": [
        "\r\n",
        "\r\n",
        "\r\n",
        "\r\n",
        "\r\n"
      ],
      "execution_count": null,
      "outputs": []
    },
    {
      "cell_type": "markdown",
      "metadata": {
        "id": "AiVq7B6RmsZI"
      },
      "source": [
        "**Referencias**\r\n",
        "\r\n",
        "https://wiki.python.org/moin/ParallelProcessing\r\n",
        "\r\n",
        "https://numba.readthedocs.io/en/stable/user/parallel.html\r\n",
        "\r\n",
        "https://ao.gl/how-to-measure-execution-time-in-google-colab/\r\n",
        "\r\n",
        "http://noisymime.org/blogimages/SIMD.pdf"
      ]
    }
  ]
}