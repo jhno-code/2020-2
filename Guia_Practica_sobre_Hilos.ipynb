{
  "nbformat": 4,
  "nbformat_minor": 0,
  "metadata": {
    "colab": {
      "name": "Guia_Practica_sobre_Hilos.ipynb",
      "provenance": [],
      "collapsed_sections": [],
      "include_colab_link": true
    },
    "kernelspec": {
      "name": "python3",
      "display_name": "Python 3"
    }
  },
  "cells": [
    {
      "cell_type": "markdown",
      "metadata": {
        "id": "view-in-github",
        "colab_type": "text"
      },
      "source": [
        "<a href=\"https://colab.research.google.com/github/jhno-code/2020-2/blob/main/Guia_Practica_sobre_Hilos.ipynb\" target=\"_parent\"><img src=\"https://colab.research.google.com/assets/colab-badge.svg\" alt=\"Open In Colab\"/></a>"
      ]
    },
    {
      "cell_type": "markdown",
      "metadata": {
        "id": "0t6Kh2cjLOYt"
      },
      "source": [
        "**PARALELISMO CON HILOS**"
      ]
    },
    {
      "cell_type": "markdown",
      "metadata": {
        "id": "KzMhMFL_HeKN"
      },
      "source": [
        "El siguiente código **identifica los hilos** utilizados. Las líneas 1-5 comentan el código siguiendo la estructura *input, procedimiento, output*"
      ]
    },
    {
      "cell_type": "code",
      "metadata": {
        "colab": {
          "base_uri": "https://localhost:8080/"
        },
        "id": "Zh7e5suksiyB",
        "outputId": "935f6a27-12d0-4611-b424-8923e776ce7a"
      },
      "source": [
        "#input: nro de hilos\n",
        "#procedimiento:\n",
        "# - Thread_worker() obtiene el nombre de un hilo con la función currentThread().getName() \n",
        "# - cada hilo llama a Thread_worker()\n",
        "#output: Thread_worker() imprime el nombre del hilo tomado\n",
        "\n",
        "import threading\n",
        "  \n",
        "THREADS_COUNT = 3  \n",
        "\n",
        "class Threaded_worker(threading.Thread):\n",
        "    def __init__(self):\n",
        "        threading.Thread.__init__(self)\n",
        "    def run(self):\n",
        "        threadName = threading.currentThread().getName() \n",
        "        print(\"Hola, Soy el thread(hilo) %s\" % threadName)\n",
        "\n",
        "print('Inicializando %d threads...' % THREADS_COUNT)\n",
        "for i in range(THREADS_COUNT):\n",
        "    td = Threaded_worker()\n",
        "    td.start()\n"
      ],
      "execution_count": null,
      "outputs": [
        {
          "output_type": "stream",
          "text": [
            "Inicializando 3 threads...\n",
            "Hola, Soy el thread(hilo) Thread-4\n",
            "Hola, Soy el thread(hilo) Thread-5Hola, Soy el thread(hilo) Thread-6\n",
            "\n"
          ],
          "name": "stdout"
        }
      ]
    },
    {
      "cell_type": "markdown",
      "metadata": {
        "id": "a3M6kv6AJ79t"
      },
      "source": [
        "El siguiente código utiliza la libreria **os** para nombras a los hilos como procesos. Analizar el código y comentarlo siguiendo la estructura *input-procedimiento-output*"
      ]
    },
    {
      "cell_type": "code",
      "metadata": {
        "colab": {
          "base_uri": "https://localhost:8080/"
        },
        "id": "dGbgVg0YsreA",
        "outputId": "c3712e39-89cc-4c0b-fa06-806e34b59ff1"
      },
      "source": [
        "#input: nro de procesos\n",
        "#procedimiento:\n",
        "# - worker() obtiene el id de un proceso con la función os.getpid()\n",
        "# - se crean procesos en p y se guardan en jobs\n",
        "#output: worker() imprime el id del proceso en ejecucion\n",
        "\n",
        "import multiprocessing\n",
        "import os\n",
        "\n",
        "WORKER_NUMBER = 3\n",
        "\n",
        "def worker():\n",
        "    PID = os.getpid()\n",
        "    print (\"Hola, soy el proceso son PID %d\" % PID)\n",
        "\n",
        "print ('Inicializando %d procesos...' % WORKER_NUMBER)\n",
        "\n",
        "jobs = []\n",
        "for i in range(WORKER_NUMBER):\n",
        "    p = multiprocessing.Process(target=worker, args=())\n",
        "    jobs.append(p)\n",
        "    p.start()"
      ],
      "execution_count": null,
      "outputs": [
        {
          "output_type": "stream",
          "text": [
            "Inicializando 3 procesos...\n",
            "Hola, soy el proceso son PID 2107\n",
            "Hola, soy el proceso son PID 2108\n",
            "Hola, soy el proceso son PID 2111\n"
          ],
          "name": "stdout"
        }
      ]
    },
    {
      "cell_type": "markdown",
      "metadata": {
        "id": "Hapqzy8DKhIH"
      },
      "source": [
        "En el siguiente código ¿Porqué el hilo 3 no se imprime?"
      ]
    },
    {
      "cell_type": "code",
      "metadata": {
        "colab": {
          "base_uri": "https://localhost:8080/"
        },
        "id": "JcG3A2DJD6lr",
        "outputId": "136a1eeb-6685-4f33-e7db-fb935a90f902"
      },
      "source": [
        "#input: -\n",
        "#procedimiento:\n",
        "# - se crean procesos\n",
        "#output: Se muestran los nombres de los hilos\n",
        "\n",
        "import threading\n",
        "def cuenta(n,name):\n",
        "    count=n\n",
        "    while count<3:\n",
        "      print(\"%s in count %s\" % (name, count))\n",
        "      count+=1\n",
        "\n",
        "t = threading.Thread(target=cuenta, args=(1, 'thread1'))\n",
        "t2 = threading.Thread(target=cuenta, args=(2, 'thread2'))\n",
        "t3 = threading.Thread(target=cuenta, args=(3, 'thread3'))\n",
        "\n",
        "t.start()\n",
        "t2.start()\n",
        "t3.start()\n"
      ],
      "execution_count": null,
      "outputs": [
        {
          "output_type": "stream",
          "text": [
            "thread1 in count 1\n",
            "thread1 in count 2\n",
            "thread2 in count 2\n"
          ],
          "name": "stdout"
        }
      ]
    },
    {
      "cell_type": "markdown",
      "metadata": {
        "id": "N96cWNTgV8tb"
      },
      "source": [
        "A continuación vamos a usar la **función time** para verificar el tiempo de paralelización. El codigo a continuación imprime el inició y fin luego de x segundos"
      ]
    },
    {
      "cell_type": "code",
      "metadata": {
        "colab": {
          "base_uri": "https://localhost:8080/"
        },
        "id": "R-NkyeQpmDCG",
        "outputId": "1d34f924-a98b-4e55-e865-bc9552054192"
      },
      "source": [
        "import time\n",
        "\n",
        "print (\"Start : %s\" % time.ctime())\n",
        "time.sleep(4)\n",
        "print (\"End : %s\" % time.ctime())\n"
      ],
      "execution_count": null,
      "outputs": [
        {
          "output_type": "stream",
          "text": [
            "Start : Wed Dec  2 12:08:36 2020\n",
            "End : Wed Dec  2 12:08:40 2020\n"
          ],
          "name": "stdout"
        }
      ]
    },
    {
      "cell_type": "markdown",
      "metadata": {
        "id": "sOB4G5hHW8UQ"
      },
      "source": [
        "El siguiente ejemplo da un espacio entre los hilos, lo cual se verifica con la función time. ¿Existe paralelismo aqui? explicar"
      ]
    },
    {
      "cell_type": "code",
      "metadata": {
        "colab": {
          "base_uri": "https://localhost:8080/"
        },
        "id": "52oIOIKwJKOC",
        "outputId": "320f7d03-d904-4440-9f9b-4dcdd6853720"
      },
      "source": [
        "#input: -\n",
        "#procedimiento:\n",
        "# - se crean 2 hilos\n",
        "#output: print_time() imprime el nombre, la hora y la cuenta\n",
        "\n",
        "import threading\n",
        "import time\n",
        "\n",
        "def print_time(name):\n",
        "    count = 0   \n",
        "    print(\"inicio %s: %s. count %s\" % ( name, time.ctime(), count))\n",
        "    while count < 5:\n",
        "        count+=1\n",
        "        print(\"%s: %s. count %s\" % ( name, time.ctime(time.time()), count))\n",
        "\n",
        "        \n",
        "t1 = threading.Thread(target=print_time, args=(\"Thread-1\", ) )\n",
        "t2 = threading.Thread(target=print_time, args=(\"Thread-2\", ) )\n",
        "\n",
        "t1.start()\n",
        "time.sleep(2)\n",
        "t2.start()"
      ],
      "execution_count": null,
      "outputs": [
        {
          "output_type": "stream",
          "text": [
            "inicio Thread-1: Wed Dec  2 12:03:38 2020. count 0\n",
            "Thread-1: Wed Dec  2 12:03:38 2020. count 1\n",
            "Thread-1: Wed Dec  2 12:03:38 2020. count 2\n",
            "Thread-1: Wed Dec  2 12:03:38 2020. count 3\n",
            "Thread-1: Wed Dec  2 12:03:38 2020. count 4\n",
            "Thread-1: Wed Dec  2 12:03:38 2020. count 5\n",
            "inicio Thread-2: Wed Dec  2 12:03:40 2020. count 0\n",
            "Thread-2: Wed Dec  2 12:03:40 2020. count 1\n",
            "Thread-2: Wed Dec  2 12:03:40 2020. count 2\n",
            "Thread-2: Wed Dec  2 12:03:40 2020. count 3\n",
            "Thread-2: Wed Dec  2 12:03:40 2020. count 4\n",
            "Thread-2: Wed Dec  2 12:03:40 2020. count 5\n"
          ],
          "name": "stdout"
        }
      ]
    },
    {
      "cell_type": "markdown",
      "metadata": {
        "id": "XuS0iTU2V6kV"
      },
      "source": [
        "**Problema propuesto:** \n",
        "Ejecute varias veces el código a continuación y explique al menos 2 resultados diferentes"
      ]
    },
    {
      "cell_type": "code",
      "metadata": {
        "colab": {
          "base_uri": "https://localhost:8080/"
        },
        "id": "O-JAYILAMvYF",
        "outputId": "97d226da-8c97-4be8-e4d0-6bab0bdb5cf3"
      },
      "source": [
        "#input: -\n",
        "#procedimiento:\n",
        "# - Se crean 2 hilos\n",
        "# - Se inician los dos hilos\n",
        "#output: print_time() imprime los nombres y tiempos 5 veces por hilo\n",
        "\n",
        "import threading\n",
        "import time\n",
        "\n",
        "def print_time(name, n):\n",
        "    count = 0   \n",
        "    print(\"Para el Hilo: %s, en el momento: %s, su valor de count es: %s\" % ( name, time.ctime(), count))\n",
        "    while count < 100:\n",
        "        time.sleep(n)\n",
        "        count+=1\n",
        "        print(\"%s: %s. count %s\" % ( name, time.ctime(), count))\n",
        "\n",
        "        \n",
        "t1 = threading.Thread(target=print_time, args=(\"Thread-1\", 2, ) )\n",
        "t2 = threading.Thread(target=print_time, args=(\"Thread-2\", 4, ) )\n",
        "\n",
        "t1.start()\n",
        "t2.start()"
      ],
      "execution_count": null,
      "outputs": [
        {
          "output_type": "stream",
          "text": [
            "Thread-2: Thu Dec  3 01:41:56 2020. count 52\n",
            "Thread-2: Thu Dec  3 01:41:56 2020. count 56\n",
            "Thread-2: Thu Dec  3 01:41:56 2020. count 74\n",
            "Thread-2: Thu Dec  3 01:41:56 2020. count 71\n",
            "Thread-1: Thu Dec  3 01:41:56 2020. count 3\n",
            "Para el Hilo: Thread-1, en el momento: Thu Dec  3 01:41:56 2020, su valor de count es: 0\n",
            "Para el Hilo: Thread-2, en el momento: Thu Dec  3 01:41:56 2020, su valor de count es: 0\n",
            "Thread-2: Thu Dec  3 01:41:56 2020. count 73\n",
            "Thread-2: Thu Dec  3 01:41:56 2020. count 53\n"
          ],
          "name": "stdout"
        }
      ]
    },
    {
      "cell_type": "markdown",
      "metadata": {
        "id": "94pkdW8_EwRG"
      },
      "source": [
        "***Para el Hilo: Thread-1, en el momento: Thu Dec  3 00:44:59 2020, su valor de count es: 0***<br>\n",
        "***Para el Hilo: Thread-2, en el momento: Thu Dec  3 00:44:59 2020, su valor de count es: 0***<br>\n",
        "En el primer resultado se muestran dos lineas las cuales se imprimen antes de entrar al bucle while, por ende antes de la funcion **time.sleep()**. Los resultados que deberían mostrarse al entrar al bucle(while) no se muestran debido a que su ejecución demora debido a la funcion **sleep()**.<br> <br>\n",
        "Al repetir una o más veces la compilación, se muestra: <br>\n",
        "***Thread-1: Thu Dec  3 01:31:39 2020. count 4<br>\n",
        "Thread-2: Thu Dec  3 01:31:39 2020. count 2<br>\n",
        "Para el Hilo: Thread-1, en el momento: Thu Dec  3 01:31:39 2020, su valor de count es: 0<br>\n",
        "Para el Hilo: Thread-2, en el momento: Thu Dec  3 01:31:39 2020, su valor de count es: 0<br>***\n",
        "Aquí se puede notar que en las dos primeras lineas se muestran los resultados de procesar el bucle **while** pero de anteriores compilaciones.<br> <br>\n",
        "\n",
        "Para mostrar resultados más notorios podemos incrementar el número de repeticiones del bucle while a un número mayor, para nuestro ejemplo a 100; obteniendose lo siguiente como primer resultado: <br>\n",
        "***Para el Hilo: Thread-1, en el momento: Thu Dec  3 01:36:21 2020, su valor de count es: 0<br>\n",
        "Para el Hilo: Thread-2, en el momento: Thu Dec  3 01:36:21 2020, su valor de count es: 0<br>***\n",
        "y como siguientes resultados:<br>\n",
        "***Thread-2: Thu Dec  3 01:41:56 2020. count 52<br>\n",
        "Thread-2: Thu Dec  3 01:41:56 2020. count 56<br>\n",
        "Thread-2: Thu Dec  3 01:41:56 2020. count 74<br>\n",
        "Thread-2: Thu Dec  3 01:41:56 2020. count 71<br>\n",
        "Thread-1: Thu Dec  3 01:41:56 2020. count 3<br>\n",
        "Para el Hilo: Thread-1, en el momento: Thu Dec  3 01:41:56 2020, su valor de count es: 0<br>\n",
        "Para el Hilo: Thread-2, en el momento: Thu Dec  3 01:41:56 2020, su valor de count es: 0<br>\n",
        "Thread-2: Thu Dec  3 01:41:56 2020. count 73<br>\n",
        "Thread-2: Thu Dec  3 01:41:56 2020. count 53***<br>\n",
        "Donde como se indicó anteriormente los resultados mostrados pertenecen a anteriores compilaciones del programa, a excepcion de los que se imprimen antes de entrar al bucle while.<br>\n",
        "Tambien se puede notar que la función **sleep()** en el thread-1 (2 segundos) demora menos que el thread-2 (4 segundos) por lo que su proceso terminará antes."
      ]
    },
    {
      "cell_type": "markdown",
      "metadata": {
        "id": "0HWsWhLvQtzc"
      },
      "source": [
        "Fin."
      ]
    },
    {
      "cell_type": "markdown",
      "metadata": {
        "id": "Tm-r7_g7Ergy"
      },
      "source": [
        ""
      ]
    },
    {
      "cell_type": "markdown",
      "metadata": {
        "id": "7WK60CtWZzXA"
      },
      "source": [
        "Fuentes: \n",
        "http://codigo-python.blogspot.com/2016/11/hilos-y-procesos-i.html\n",
        "\n",
        "https://www.tutorialspoint.com/python3/time_sleep.htm\n",
        "\n",
        "https://docs.python.org/es/3/library/threading.html#thread-objects\n",
        "\n",
        "https://en.wikipedia.org/wiki/Flynn%27s_taxonomy\n",
        "\n",
        "https://github.com/antonioam82/ejercicios-python"
      ]
    }
  ]
}