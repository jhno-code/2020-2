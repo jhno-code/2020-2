{
  "nbformat": 4,
  "nbformat_minor": 0,
  "metadata": {
    "colab": {
      "name": "Copia de p1g3.ipynb",
      "provenance": [],
      "include_colab_link": true
    },
    "kernelspec": {
      "name": "python3",
      "display_name": "Python 3"
    },
    "accelerator": "GPU"
  },
  "cells": [
    {
      "cell_type": "markdown",
      "metadata": {
        "id": "view-in-github",
        "colab_type": "text"
      },
      "source": [
        "<a href=\"https://colab.research.google.com/github/jhno-code/2020-2/blob/main/Copia_de_p1g3.ipynb\" target=\"_parent\"><img src=\"https://colab.research.google.com/assets/colab-badge.svg\" alt=\"Open In Colab\"/></a>"
      ]
    },
    {
      "cell_type": "code",
      "metadata": {
        "colab": {
          "base_uri": "https://localhost:8080/"
        },
        "id": "iHZGa7n9F-Y9",
        "outputId": "5bfb781d-d65a-4f38-a794-4ac7dcffc92d"
      },
      "source": [
        "code = '''\r\n",
        "#include \"omp.h\"\r\n",
        "#include <time.h>\r\n",
        "#include <stdlib.h>\r\n",
        "#include <iostream>\r\n",
        "#include <ctime>\r\n",
        "\r\n",
        "using namespace std;\r\n",
        "\r\n",
        "\r\n",
        "int main(int argc, char const *argv[])\r\n",
        "{\r\n",
        "  //int begin = time(NULL);\r\n",
        "\r\n",
        "  int i, j;\r\n",
        "  srand(time(0));\r\n",
        "  int n = 1800;\r\n",
        "  cout << \"valor de n =  \" << n << endl;\r\n",
        "\r\n",
        "  //--crea las matrices n x n\r\n",
        "  int **matriz_a = new int*[n];\r\n",
        "  for (int i = 0; i < n; i++) \r\n",
        "  {\r\n",
        "    matriz_a[i] = new int[n];\r\n",
        "  }\r\n",
        "\r\n",
        "  int **matriz_b = new int*[n];\r\n",
        "  for (int i = 0; i < n; i++) \r\n",
        "  {\r\n",
        "    matriz_b[i] = new int[n];\r\n",
        "  }\r\n",
        "\r\n",
        "  int **matriz_c = new int*[n];\r\n",
        "  for (int i = 0; i < n; i++) \r\n",
        "  {\r\n",
        "    matriz_c[i] = new int[n];\r\n",
        "  }\r\n",
        "\r\n",
        "  //--llena las matrices a y b con valores aleatorios\r\n",
        "  for (i = 0; i < n; i++)\r\n",
        "  {\r\n",
        "    for (j = 0; j < n; j++)\r\n",
        "    {\r\n",
        "      matriz_a[i][j] = (rand() % 4) + 1;\r\n",
        "      matriz_b[i][j] = (rand() % 4) + 1;\r\n",
        "    }\r\n",
        "  }\r\n",
        " \r\n",
        "  /* muestra la matriz_a\r\n",
        "  for (i = 0; i < n; i++)\r\n",
        "  {\r\n",
        "    for (j = 0; j < n; j++)\r\n",
        "    {\r\n",
        "      printf(\"%d \", matriz_a[i][j]);\r\n",
        "    }\r\n",
        "    printf(\"\\\\n\");\r\n",
        "  }\r\n",
        "  printf(\"\\\\n\");\r\n",
        " \r\n",
        "  /* muestra la matriz_b\r\n",
        "  for (i = 0; i < n; i++)\r\n",
        "  {\r\n",
        "    for (j = 0; j < n; j++)\r\n",
        "    {\r\n",
        "      printf(\"%d \", matriz_b[i][j]);\r\n",
        "    }\r\n",
        "    printf(\"\\\\n\");\r\n",
        "  }*/\r\n",
        " \r\n",
        "  printf(\"\\\\n\");\r\n",
        "  /* realizar la multiplicación en paralelo */\r\n",
        " \r\n",
        "  #pragma omp parallel\r\n",
        "  {\r\n",
        "    int i, j, k, suma;\r\n",
        "    #pragma omp for private(i, suma) //Variable i y variable suma como privados\r\n",
        "    for (i = 0; i < n; i++)\r\n",
        "    {\r\n",
        "      for (j = 0; j < n; j++)\r\n",
        "      {\r\n",
        "        suma = 0;\r\n",
        "        for (k = 0; k < n; k++)\r\n",
        "        {\r\n",
        "          suma += (matriz_a[i][k] * matriz_b[k][j]);\r\n",
        "        }\r\n",
        "        matriz_c[i][j] = suma;\r\n",
        "      }\r\n",
        "    }\r\n",
        "  }\r\n",
        " \r\n",
        "  /*-- muestra la matriz_c de resultados\r\n",
        "  for (i = 0; i < n; i++) \r\n",
        "  {\r\n",
        "    for (j = 0; j < n; j++) \r\n",
        "    {\r\n",
        "      printf(\"%d \", matriz_c[i][j]);\r\n",
        "    }\r\n",
        "    printf(\"\\\\n\");\r\n",
        "  }*/\r\n",
        "\r\n",
        "  //int end = time(NULL);\r\n",
        "  //double elapsed_secs = end - begin;\r\n",
        "  //cout << \"*** tiempo total: \" << elapsed_secs << endl;\r\n",
        "\r\n",
        "  //system(\"PAUSE\");\r\n",
        "  return 0;\r\n",
        "}'''\r\n",
        "\r\n",
        "text_file = open(\"code.cpp\", \"w\")\r\n",
        "text_file.write(code)\r\n",
        "text_file.close()\r\n",
        "%env OMP_NUM_THREADS = 1\r\n",
        "!g++ -o code code.cpp -fopenmp \r\n",
        "!time ./code"
      ],
      "execution_count": 2,
      "outputs": [
        {
          "output_type": "stream",
          "text": [
            "env: OMP_NUM_THREADS=1\n",
            "valor de n =  1800\n",
            "\n",
            "\n",
            "real\t0m55.660s\n",
            "user\t0m55.581s\n",
            "sys\t0m0.037s\n"
          ],
          "name": "stdout"
        }
      ]
    },
    {
      "cell_type": "code",
      "metadata": {
        "colab": {
          "base_uri": "https://localhost:8080/"
        },
        "id": "vtSvb3BiTH3U",
        "outputId": "cbafed8f-9715-4584-91ba-2905909e3ba4"
      },
      "source": [
        "!nvidia-smi"
      ],
      "execution_count": null,
      "outputs": [
        {
          "output_type": "stream",
          "text": [
            "Wed Dec 30 18:40:32 2020       \n",
            "+-----------------------------------------------------------------------------+\n",
            "| NVIDIA-SMI 460.27.04    Driver Version: 418.67       CUDA Version: 10.1     |\n",
            "|-------------------------------+----------------------+----------------------+\n",
            "| GPU  Name        Persistence-M| Bus-Id        Disp.A | Volatile Uncorr. ECC |\n",
            "| Fan  Temp  Perf  Pwr:Usage/Cap|         Memory-Usage | GPU-Util  Compute M. |\n",
            "|                               |                      |               MIG M. |\n",
            "|===============================+======================+======================|\n",
            "|   0  Tesla T4            Off  | 00000000:00:04.0 Off |                    0 |\n",
            "| N/A   48C    P8     9W /  70W |      0MiB / 15079MiB |      0%      Default |\n",
            "|                               |                      |                 ERR! |\n",
            "+-------------------------------+----------------------+----------------------+\n",
            "                                                                               \n",
            "+-----------------------------------------------------------------------------+\n",
            "| Processes:                                                                  |\n",
            "|  GPU   GI   CI        PID   Type   Process name                  GPU Memory |\n",
            "|        ID   ID                                                   Usage      |\n",
            "|=============================================================================|\n",
            "|  No running processes found                                                 |\n",
            "+-----------------------------------------------------------------------------+\n"
          ],
          "name": "stdout"
        }
      ]
    },
    {
      "cell_type": "code",
      "metadata": {
        "colab": {
          "base_uri": "https://localhost:8080/"
        },
        "id": "Qyk6fkuLTM6x",
        "outputId": "27be74a3-acc9-417d-aff9-650d261d8ec4"
      },
      "source": [
        "!cat /proc/cpuinfo"
      ],
      "execution_count": null,
      "outputs": [
        {
          "output_type": "stream",
          "text": [
            "processor\t: 0\n",
            "vendor_id\t: GenuineIntel\n",
            "cpu family\t: 6\n",
            "model\t\t: 63\n",
            "model name\t: Intel(R) Xeon(R) CPU @ 2.30GHz\n",
            "stepping\t: 0\n",
            "microcode\t: 0x1\n",
            "cpu MHz\t\t: 2299.998\n",
            "cache size\t: 46080 KB\n",
            "physical id\t: 0\n",
            "siblings\t: 2\n",
            "core id\t\t: 0\n",
            "cpu cores\t: 1\n",
            "apicid\t\t: 0\n",
            "initial apicid\t: 0\n",
            "fpu\t\t: yes\n",
            "fpu_exception\t: yes\n",
            "cpuid level\t: 13\n",
            "wp\t\t: yes\n",
            "flags\t\t: fpu vme de pse tsc msr pae mce cx8 apic sep mtrr pge mca cmov pat pse36 clflush mmx fxsr sse sse2 ss ht syscall nx pdpe1gb rdtscp lm constant_tsc rep_good nopl xtopology nonstop_tsc cpuid tsc_known_freq pni pclmulqdq ssse3 fma cx16 pcid sse4_1 sse4_2 x2apic movbe popcnt aes xsave avx f16c rdrand hypervisor lahf_lm abm invpcid_single ssbd ibrs ibpb stibp fsgsbase tsc_adjust bmi1 avx2 smep bmi2 erms invpcid xsaveopt arat md_clear arch_capabilities\n",
            "bugs\t\t: cpu_meltdown spectre_v1 spectre_v2 spec_store_bypass l1tf mds swapgs\n",
            "bogomips\t: 4599.99\n",
            "clflush size\t: 64\n",
            "cache_alignment\t: 64\n",
            "address sizes\t: 46 bits physical, 48 bits virtual\n",
            "power management:\n",
            "\n",
            "processor\t: 1\n",
            "vendor_id\t: GenuineIntel\n",
            "cpu family\t: 6\n",
            "model\t\t: 63\n",
            "model name\t: Intel(R) Xeon(R) CPU @ 2.30GHz\n",
            "stepping\t: 0\n",
            "microcode\t: 0x1\n",
            "cpu MHz\t\t: 2299.998\n",
            "cache size\t: 46080 KB\n",
            "physical id\t: 0\n",
            "siblings\t: 2\n",
            "core id\t\t: 0\n",
            "cpu cores\t: 1\n",
            "apicid\t\t: 1\n",
            "initial apicid\t: 1\n",
            "fpu\t\t: yes\n",
            "fpu_exception\t: yes\n",
            "cpuid level\t: 13\n",
            "wp\t\t: yes\n",
            "flags\t\t: fpu vme de pse tsc msr pae mce cx8 apic sep mtrr pge mca cmov pat pse36 clflush mmx fxsr sse sse2 ss ht syscall nx pdpe1gb rdtscp lm constant_tsc rep_good nopl xtopology nonstop_tsc cpuid tsc_known_freq pni pclmulqdq ssse3 fma cx16 pcid sse4_1 sse4_2 x2apic movbe popcnt aes xsave avx f16c rdrand hypervisor lahf_lm abm invpcid_single ssbd ibrs ibpb stibp fsgsbase tsc_adjust bmi1 avx2 smep bmi2 erms invpcid xsaveopt arat md_clear arch_capabilities\n",
            "bugs\t\t: cpu_meltdown spectre_v1 spectre_v2 spec_store_bypass l1tf mds swapgs\n",
            "bogomips\t: 4599.99\n",
            "clflush size\t: 64\n",
            "cache_alignment\t: 64\n",
            "address sizes\t: 46 bits physical, 48 bits virtual\n",
            "power management:\n",
            "\n"
          ],
          "name": "stdout"
        }
      ]
    },
    {
      "cell_type": "code",
      "metadata": {
        "id": "rBRE9kzt3f3S",
        "colab": {
          "base_uri": "https://localhost:8080/"
        },
        "outputId": "72fecd4a-72f2-4680-dc77-f6c4ded1c79d"
      },
      "source": [
        "import multiprocessing\n",
        "\n",
        "multiprocessing.cpu_count()"
      ],
      "execution_count": null,
      "outputs": [
        {
          "output_type": "execute_result",
          "data": {
            "text/plain": [
              "2"
            ]
          },
          "metadata": {
            "tags": []
          },
          "execution_count": 4
        }
      ]
    }
  ]
}