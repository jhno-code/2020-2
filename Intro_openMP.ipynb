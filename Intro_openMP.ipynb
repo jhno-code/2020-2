{
  "nbformat": 4,
  "nbformat_minor": 0,
  "metadata": {
    "colab": {
      "name": "Intro - openMP.ipynb",
      "provenance": [],
      "include_colab_link": true
    },
    "kernelspec": {
      "name": "python3",
      "display_name": "Python 3"
    }
  },
  "cells": [
    {
      "cell_type": "markdown",
      "metadata": {
        "id": "view-in-github",
        "colab_type": "text"
      },
      "source": [
        "<a href=\"https://colab.research.google.com/github/jhno-code/2020-2/blob/main/Intro_openMP.ipynb\" target=\"_parent\"><img src=\"https://colab.research.google.com/assets/colab-badge.svg\" alt=\"Open In Colab\"/></a>"
      ]
    },
    {
      "cell_type": "code",
      "metadata": {
        "colab": {
          "base_uri": "https://localhost:8080/"
        },
        "id": "87uMNHucB5Sz",
        "outputId": "79d083ed-ea17-4698-e873-353e5fd508e5"
      },
      "source": [
        "code=\"\"\"\r\n",
        "#include <omp.h>\r\n",
        "#include <stdlib.h>\r\n",
        "#include <stdio.h>\r\n",
        "\r\n",
        "int main(int argc, char* argv[])\r\n",
        "{\r\n",
        "  int hilo_ID = 0, num_hilos = 1;\r\n",
        "  printf(\"Region Serializada\\\\n\");\r\n",
        "\r\n",
        "  #pragma omp parallel private(hilo_ID, num_hilos)\r\n",
        "  {\r\n",
        "    num_hilos = omp_get_num_threads();\r\n",
        "    hilo_ID = omp_get_thread_num();\r\n",
        "    printf(\"Hola desde el hilo %d de %d \\\\n\", hilo_ID, num_hilos);\r\n",
        "  }\r\n",
        "}\"\"\"\r\n",
        "\r\n",
        "#creando un archivo para guardar el código\r\n",
        "text_file = open(\"codeA.c\", \"w\")\r\n",
        "\r\n",
        "#Guardar el code en el text_file\r\n",
        "text_file.write(code)\r\n",
        "\r\n",
        "#cerrar el archivo text_file\r\n",
        "text_file.close()\r\n",
        "\r\n",
        "#definir cuantos hilos se van a usar\r\n",
        "%env OMP_NUM_THREADS=4\r\n",
        "\r\n",
        "#ejecutar nuestro código paralelo llamado codeA\r\n",
        "!gcc -o Ejecutar -fopenmp codeA.c\r\n",
        "!./Ejecutar"
      ],
      "execution_count": 1,
      "outputs": [
        {
          "output_type": "stream",
          "text": [
            "env: OMP_NUM_THREADS=4\n",
            "Region Serializada\n",
            "Hola desde el hilo 3 de 4 \n",
            "Hola desde el hilo 1 de 4 \n",
            "Hola desde el hilo 2 de 4 \n",
            "Hola desde el hilo 0 de 4 \n"
          ],
          "name": "stdout"
        }
      ]
    },
    {
      "cell_type": "code",
      "metadata": {
        "colab": {
          "base_uri": "https://localhost:8080/"
        },
        "id": "gx1q0qZOJqwq",
        "outputId": "aa1d1552-4184-4f47-d9e9-75a840559308"
      },
      "source": [
        "code=\"\"\"\r\n",
        "#include <omp.h>\r\n",
        "#include <stdlib.h>\r\n",
        "#include <stdio.h>\r\n",
        "\r\n",
        "\r\n",
        "int main(int argc, char* argv[])\r\n",
        "{\r\n",
        "  int x=1234;\r\n",
        "  int iam,np,i;\r\n",
        "\r\n",
        "  #pragma omp parallel private(iam, np, i, x)\r\n",
        "  { \r\n",
        "    iam = omp_get_thread_num();\r\n",
        "    printf(\"Soy el thread %d, antes de actualizar, con x=%d\\\\n\",iam,x);\r\n",
        "    x=iam*1111;\r\n",
        "    printf(\"\\t\\tSoy el thread %d, despues de actualizar, con x=%d\\\\n\",iam,x);\r\n",
        "  }\r\n",
        "  \r\n",
        "printf(\"\\\\n Despues de pragma parallel x=%d \\\\n\",x); //x=1234\r\n",
        "}\r\n",
        "\"\"\"\r\n",
        "\r\n",
        "text_file = open(\"codeB.c\", \"w\")\r\n",
        "text_file.write(code)\r\n",
        "text_file.close()\r\n",
        "%env OMP_NUM_THREADS=4\r\n",
        "!gcc -o Ejecutar -fopenmp codeB.c\r\n",
        "!./Ejecutar"
      ],
      "execution_count": null,
      "outputs": [
        {
          "output_type": "stream",
          "text": [
            "env: OMP_NUM_THREADS=4\n",
            "Soy el thread 0, antes de actualizar, con x=0\n",
            "\t\tSoy el thread 0, despues de actualizar, con x=0\n",
            "Soy el thread 1, antes de actualizar, con x=0\n",
            "\t\tSoy el thread 1, despues de actualizar, con x=1111\n",
            "Soy el thread 2, antes de actualizar, con x=0\n",
            "\t\tSoy el thread 2, despues de actualizar, con x=2222\n",
            "Soy el thread 3, antes de actualizar, con x=0\n",
            "\t\tSoy el thread 3, despues de actualizar, con x=3333\n",
            "\n",
            " Despues de pragma parallel x=1234 \n"
          ],
          "name": "stdout"
        }
      ]
    },
    {
      "cell_type": "code",
      "metadata": {
        "id": "u2hvpoKdykt6",
        "outputId": "022ce1df-0884-46a0-c9a1-702a61e6d1e8",
        "colab": {
          "base_uri": "https://localhost:8080/"
        }
      },
      "source": [
        "code=\"\"\"\n",
        "#include <omp.h>\n",
        "#include <stdlib.h>\n",
        "#include <stdio.h>\n",
        "\n",
        "\n",
        "int main(int argc, char* argv[])\n",
        "{\n",
        "  int TID, i, vlen, n, indx;\n",
        "  indx = 4;             // desplazamiento\n",
        "  n = 2;                // nro de datos por hilo\n",
        "  //vlen = indx + n * 4;  // 4 = nro de hilos\n",
        "  vlen = indx + n * 4 + 5;\n",
        "\n",
        "  int a[vlen];\n",
        "  for(int i=0; i < vlen; i++) a[i] = -i-1;  // a = [-1, -2, -3, ...]\n",
        "\n",
        "  #pragma omp parallel private(i,TID) firstprivate(indx) shared(n,a)\n",
        "  {\n",
        "      TID = omp_get_thread_num();       // obtener numero de hilo\n",
        "      indx += n*TID;                    // desplazamiento para cada hilo\n",
        "      for(i=indx; i<indx+n; i++)        // Cambiar valores de \"a\"\n",
        "          a[i] = TID + 1;\n",
        "  } /*-- End of parallel region --*/\n",
        "\n",
        "  printf(\"Despues de la región paralela:\\\\n\");\n",
        "  for (i=0; i<vlen; i++)\n",
        "    printf(\"a[%d] = %d\\\\n\",i,a[i]);     // imprimir elementos de \"a\"\n",
        "  return 0;\n",
        "}\n",
        "\"\"\"\n",
        "\n",
        "text_file = open(\"codeB.c\", \"w\")\n",
        "text_file.write(code)\n",
        "text_file.close()\n",
        "%env OMP_NUM_THREADS=4\n",
        "!gcc -o Ejecutar -fopenmp codeB.c\n",
        "!./Ejecutar"
      ],
      "execution_count": 9,
      "outputs": [
        {
          "output_type": "stream",
          "text": [
            "env: OMP_NUM_THREADS=4\n",
            "Despues de la región paralela:\n",
            "a[0] = -1\n",
            "a[1] = -2\n",
            "a[2] = -3\n",
            "a[3] = -4\n",
            "a[4] = 1\n",
            "a[5] = 1\n",
            "a[6] = 2\n",
            "a[7] = 2\n",
            "a[8] = 3\n",
            "a[9] = 3\n",
            "a[10] = 4\n",
            "a[11] = 4\n",
            "a[12] = -13\n",
            "a[13] = -14\n",
            "a[14] = -15\n",
            "a[15] = -16\n",
            "a[16] = -17\n"
          ],
          "name": "stdout"
        }
      ]
    }
  ]
}