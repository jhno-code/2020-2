{
  "nbformat": 4,
  "nbformat_minor": 0,
  "metadata": {
    "colab": {
      "name": "Intro - openMP.ipynb",
      "provenance": [],
      "include_colab_link": true
    },
    "kernelspec": {
      "name": "python3",
      "display_name": "Python 3"
    }
  },
  "cells": [
    {
      "cell_type": "markdown",
      "metadata": {
        "id": "view-in-github",
        "colab_type": "text"
      },
      "source": [
        "<a href=\"https://colab.research.google.com/github/jhno-code/2020-2/blob/main/FirstPrivateMP%20-%20open.ipynb\" target=\"_parent\"><img src=\"https://colab.research.google.com/assets/colab-badge.svg\" alt=\"Open In Colab\"/></a>"
      ]
    },
    {
      "cell_type": "markdown",
      "metadata": {
        "id": "cHiXkuKH8Nwx"
      },
      "source": [
        "\n",
        "\n",
        "---\n",
        "\n",
        "\n",
        "**FIRSTPRIVATE**\n",
        "\n",
        "\n",
        "---\n",
        "\n",
        "\n",
        "Primer código <br>\n",
        "indx como variable **firstprivate**"
      ]
    },
    {
      "cell_type": "code",
      "metadata": {
        "colab": {
          "base_uri": "https://localhost:8080/"
        },
        "id": "u2hvpoKdykt6",
        "outputId": "055724c2-bac6-436c-8984-9d07878dc4c5"
      },
      "source": [
        "code=\"\"\"\n",
        "#include <omp.h>\n",
        "#include <stdlib.h>\n",
        "#include <stdio.h>\n",
        "\n",
        "\n",
        "int main(int argc, char* argv[])\n",
        "{\n",
        "  int TID, i, vlen, n = 2, indx = 4;\n",
        "  vlen = indx + 5 + n * 4;\n",
        "\n",
        "  int a[vlen];\n",
        "  for(int i=0; i < vlen; i++) a[i] = -i-1;  // a = [-1, -2, -3, ...]\n",
        "\n",
        "  #pragma omp parallel private(i,TID) firstprivate(indx) shared(n,a)\n",
        "  {\n",
        "      TID = omp_get_thread_num();       // obtener numero de hilo\n",
        "      indx += n*TID;                    // desplazamiento para cada hilo\n",
        "\n",
        "      for(i=indx; i<indx+n; i++)        // Cambiar valores de \"a\"\n",
        "          a[i] = TID + 1;\n",
        "  } /*-- End of parallel region --*/\n",
        "\n",
        "  printf(\"Despues de la región paralela:\\\\n\");\n",
        "  for (i=0; i<vlen; i++)\n",
        "    printf(\"a[%d] = %d\\\\n\",i,a[i]);     // imprimir elementos de \"a\"\n",
        "  return 0;\n",
        "}\n",
        "\"\"\"\n",
        "\n",
        "text_file = open(\"codeB.c\", \"w\")\n",
        "text_file.write(code)\n",
        "text_file.close()\n",
        "%env OMP_NUM_THREADS=4\n",
        "!gcc -o Ejecutar -fopenmp codeB.c\n",
        "!./Ejecutar"
      ],
      "execution_count": 24,
      "outputs": [
        {
          "output_type": "stream",
          "text": [
            "env: OMP_NUM_THREADS=4\n",
            "Despues de la región paralela:\n",
            "a[0] = -1\n",
            "a[1] = -2\n",
            "a[2] = -3\n",
            "a[3] = -4\n",
            "a[4] = 1\n",
            "a[5] = 1\n",
            "a[6] = 2\n",
            "a[7] = 2\n",
            "a[8] = 3\n",
            "a[9] = 3\n",
            "a[10] = 4\n",
            "a[11] = 4\n",
            "a[12] = -13\n",
            "a[13] = -14\n",
            "a[14] = -15\n",
            "a[15] = -16\n",
            "a[16] = -17\n"
          ],
          "name": "stdout"
        }
      ]
    },
    {
      "cell_type": "markdown",
      "metadata": {
        "id": "amsGoYcK8bx4"
      },
      "source": [
        "Segundo código\n",
        "indx como **private**"
      ]
    },
    {
      "cell_type": "code",
      "metadata": {
        "id": "OW3r4AMq8jM-",
        "outputId": "dba8b9fe-7bed-4294-d044-d070fa8509a3",
        "colab": {
          "base_uri": "https://localhost:8080/"
        }
      },
      "source": [
        "code=\"\"\"\n",
        "#include <omp.h>\n",
        "#include <stdlib.h>\n",
        "#include <stdio.h>\n",
        "\n",
        "\n",
        "int main(int argc, char* argv[])\n",
        "{\n",
        "  int TID, i, vlen, indx, n = 2, offset = 4;\n",
        "  vlen = offset + 5 + n * 4;\n",
        "\n",
        "  int a[vlen];\n",
        "  for(int i=0; i < vlen; i++) a[i] = -i-1;  // a = [-1, -2, -3, ...]\n",
        "\n",
        "  #pragma omp parallel default(none) private(i,TID,indx) shared(n,offset,a)\n",
        "  {\n",
        "    TID = omp_get_thread_num();\n",
        "    indx = offset + n*TID;\n",
        "\n",
        "    for(i=indx; i<indx+n; i++)\n",
        "        a[i] = TID + 1;\n",
        "    } /*-- End of parallel region --*/\n",
        "\n",
        "  printf(\"Despues de la región paralela:\\\\n\");\n",
        "  for (i=0; i<vlen; i++)\n",
        "    printf(\"a[%d] = %d\\\\n\",i,a[i]);     // imprimir elementos de \"a\"\n",
        "  return 0;\n",
        "}\n",
        "\"\"\"\n",
        "\n",
        "text_file = open(\"codeB.c\", \"w\")\n",
        "text_file.write(code)\n",
        "text_file.close()\n",
        "%env OMP_NUM_THREADS=4\n",
        "!gcc -o Ejecutar -fopenmp codeB.c\n",
        "!./Ejecutar"
      ],
      "execution_count": 25,
      "outputs": [
        {
          "output_type": "stream",
          "text": [
            "env: OMP_NUM_THREADS=4\n",
            "Despues de la región paralela:\n",
            "a[0] = -1\n",
            "a[1] = -2\n",
            "a[2] = -3\n",
            "a[3] = -4\n",
            "a[4] = 1\n",
            "a[5] = 1\n",
            "a[6] = 2\n",
            "a[7] = 2\n",
            "a[8] = 3\n",
            "a[9] = 3\n",
            "a[10] = 4\n",
            "a[11] = 4\n",
            "a[12] = -13\n",
            "a[13] = -14\n",
            "a[14] = -15\n",
            "a[15] = -16\n",
            "a[16] = -17\n"
          ],
          "name": "stdout"
        }
      ]
    },
    {
      "cell_type": "markdown",
      "metadata": {
        "id": "ghdRMYC0_aXc"
      },
      "source": [
        "**firstprivate** y **shared** son parecidos, la diferencia radica en que las variables de **shared** se comparten por todos los hilos a diferencia de **firstprivate** donde cada hilo hace una copia de la variable."
      ]
    }
  ]
}