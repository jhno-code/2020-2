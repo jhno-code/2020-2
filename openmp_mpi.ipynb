{
  "nbformat": 4,
  "nbformat_minor": 0,
  "metadata": {
    "colab": {
      "name": "openmp_mpi.ipynb",
      "provenance": [],
      "collapsed_sections": [],
      "authorship_tag": "ABX9TyMmJj6zVhLuLLylloNGuFl0",
      "include_colab_link": true
    },
    "kernelspec": {
      "name": "python3",
      "display_name": "Python 3"
    }
  },
  "cells": [
    {
      "cell_type": "markdown",
      "metadata": {
        "id": "view-in-github",
        "colab_type": "text"
      },
      "source": [
        "<a href=\"https://colab.research.google.com/github/jhno-code/2020-2/blob/main/openmp_mpi.ipynb\" target=\"_parent\"><img src=\"https://colab.research.google.com/assets/colab-badge.svg\" alt=\"Open In Colab\"/></a>"
      ]
    },
    {
      "cell_type": "code",
      "metadata": {
        "colab": {
          "base_uri": "https://localhost:8080/"
        },
        "id": "ubsBXVWM_0iQ",
        "outputId": "e538a884-4c0a-4aa1-9ad7-ccaf8779c09a"
      },
      "source": [
        "!apt update\n",
        "!apt upgrade\n",
        "!apt autoremove"
      ],
      "execution_count": 9,
      "outputs": [
        {
          "output_type": "stream",
          "text": [
            "\u001b[33m\r0% [Working]\u001b[0m\r            \rIgn:1 https://developer.download.nvidia.com/compute/cuda/repos/ubuntu1804/x86_64  InRelease\n",
            "\u001b[33m\r0% [Connecting to archive.ubuntu.com (91.189.88.152)] [Waiting for headers] [Co\u001b[0m\r                                                                               \rGet:2 http://security.ubuntu.com/ubuntu bionic-security InRelease [88.7 kB]\n",
            "\u001b[33m\r0% [Connecting to archive.ubuntu.com (91.189.88.152)] [2 InRelease 14.2 kB/88.7\u001b[0m\r                                                                               \rIgn:3 https://developer.download.nvidia.com/compute/machine-learning/repos/ubuntu1804/x86_64  InRelease\n",
            "\u001b[33m\r0% [Connecting to archive.ubuntu.com (91.189.88.152)] [2 InRelease 14.2 kB/88.7\u001b[0m\r                                                                               \rHit:4 https://cloud.r-project.org/bin/linux/ubuntu bionic-cran40/ InRelease\n",
            "\u001b[33m\r0% [Connecting to archive.ubuntu.com (91.189.88.152)] [2 InRelease 22.9 kB/88.7\u001b[0m\r                                                                               \rHit:5 https://developer.download.nvidia.com/compute/cuda/repos/ubuntu1804/x86_64  Release\n",
            "Hit:6 https://developer.download.nvidia.com/compute/machine-learning/repos/ubuntu1804/x86_64  Release\n",
            "Hit:7 http://ppa.launchpad.net/c2d4u.team/c2d4u4.0+/ubuntu bionic InRelease\n",
            "Hit:8 http://archive.ubuntu.com/ubuntu bionic InRelease\n",
            "Get:9 http://archive.ubuntu.com/ubuntu bionic-updates InRelease [88.7 kB]\n",
            "Hit:10 http://ppa.launchpad.net/cran/libgit2/ubuntu bionic InRelease\n",
            "Hit:12 http://ppa.launchpad.net/graphics-drivers/ppa/ubuntu bionic InRelease\n",
            "Get:14 http://archive.ubuntu.com/ubuntu bionic-backports InRelease [74.6 kB]\n",
            "Fetched 252 kB in 2s (120 kB/s)\n",
            "Reading package lists... Done\n",
            "Building dependency tree       \n",
            "Reading state information... Done\n",
            "6 packages can be upgraded. Run 'apt list --upgradable' to see them.\n",
            "Reading package lists... Done\n",
            "Building dependency tree       \n",
            "Reading state information... Done\n",
            "Calculating upgrade... Done\n",
            "The following packages were automatically installed and are no longer required:\n",
            "  linux-headers-4.15.0-129 linux-headers-4.15.0-129-generic\n",
            "Use 'apt autoremove' to remove them.\n",
            "The following packages have been kept back:\n",
            "  libcublas-dev libcublas10 libcudnn7 libcudnn7-dev libnccl-dev libnccl2\n",
            "0 upgraded, 0 newly installed, 0 to remove and 6 not upgraded.\n",
            "Reading package lists... Done\n",
            "Building dependency tree       \n",
            "Reading state information... Done\n",
            "The following packages will be REMOVED:\n",
            "  linux-headers-4.15.0-129 linux-headers-4.15.0-129-generic\n",
            "0 upgraded, 0 newly installed, 2 to remove and 6 not upgraded.\n",
            "After this operation, 89.5 MB disk space will be freed.\n",
            "(Reading database ... 175651 files and directories currently installed.)\n",
            "Removing linux-headers-4.15.0-129-generic (4.15.0-129.132) ...\n",
            "\u001b[1mdpkg:\u001b[0m \u001b[1;33mwarning:\u001b[0m while removing linux-headers-4.15.0-129-generic, directory '/lib/modules/4.15.0-129-generic' not empty so not removed\n",
            "Removing linux-headers-4.15.0-129 (4.15.0-129.132) ...\n"
          ],
          "name": "stdout"
        }
      ]
    },
    {
      "cell_type": "code",
      "metadata": {
        "colab": {
          "base_uri": "https://localhost:8080/"
        },
        "id": "K5uWLnTzEuae",
        "outputId": "f11b41d3-dddc-4ce6-872f-8fe1237b2d21"
      },
      "source": [
        "!apt sudo apt install openmpi-bin libopenmpi-dev"
      ],
      "execution_count": 10,
      "outputs": [
        {
          "output_type": "stream",
          "text": [
            "\u001b[33m\r0% [Working]\u001b[0m\r            \rIgn:1 https://developer.download.nvidia.com/compute/cuda/repos/ubuntu1804/x86_64  InRelease\n",
            "\u001b[33m\r0% [Connecting to archive.ubuntu.com (91.189.88.152)] [Waiting for headers] [Co\u001b[0m\r                                                                               \rIgn:2 https://developer.download.nvidia.com/compute/machine-learning/repos/ubuntu1804/x86_64  InRelease\n",
            "\u001b[33m\r0% [Waiting for headers] [Waiting for headers] [Connecting to cloud.r-project.o\u001b[0m\r                                                                               \rHit:3 https://developer.download.nvidia.com/compute/cuda/repos/ubuntu1804/x86_64  Release\n",
            "\u001b[33m\r0% [Waiting for headers] [Waiting for headers] [Connected to cloud.r-project.or\u001b[0m\u001b[33m\r0% [Release.gpg gpgv 697 B] [Waiting for headers] [Waiting for headers] [Connec\u001b[0m\r                                                                               \rHit:4 https://developer.download.nvidia.com/compute/machine-learning/repos/ubuntu1804/x86_64  Release\n",
            "\u001b[33m\r0% [Release.gpg gpgv 697 B] [Waiting for headers] [Waiting for headers] [Connec\u001b[0m\r                                                                               \rHit:5 https://cloud.r-project.org/bin/linux/ubuntu bionic-cran40/ InRelease\n",
            "\u001b[33m\r0% [Release.gpg gpgv 697 B] [Waiting for headers] [Waiting for headers] [Waitin\u001b[0m\r                                                                               \rGet:6 http://security.ubuntu.com/ubuntu bionic-security InRelease [88.7 kB]\n",
            "\u001b[33m\r0% [Release.gpg gpgv 697 B] [Waiting for headers] [6 InRelease 14.2 kB/88.7 kB \u001b[0m\r                                                                               \rHit:7 http://ppa.launchpad.net/c2d4u.team/c2d4u4.0+/ubuntu bionic InRelease\n",
            "Hit:8 http://archive.ubuntu.com/ubuntu bionic InRelease\n",
            "Get:9 http://archive.ubuntu.com/ubuntu bionic-updates InRelease [88.7 kB]\n",
            "Hit:11 http://ppa.launchpad.net/cran/libgit2/ubuntu bionic InRelease\n",
            "Hit:13 http://ppa.launchpad.net/graphics-drivers/ppa/ubuntu bionic InRelease\n",
            "Get:14 http://archive.ubuntu.com/ubuntu bionic-backports InRelease [74.6 kB]\n",
            "Fetched 252 kB in 2s (117 kB/s)\n",
            "Reading package lists... Done\n",
            "Building dependency tree       \n",
            "Reading state information... Done\n",
            "6 packages can be upgraded. Run 'apt list --upgradable' to see them.\n",
            "Reading package lists... Done\n",
            "Building dependency tree       \n",
            "Reading state information... Done\n",
            "libopenmpi-dev is already the newest version (2.1.1-8).\n",
            "openmpi-bin is already the newest version (2.1.1-8).\n",
            "openmpi-bin set to manually installed.\n",
            "0 upgraded, 0 newly installed, 0 to remove and 6 not upgraded.\n"
          ],
          "name": "stdout"
        }
      ]
    },
    {
      "cell_type": "code",
      "metadata": {
        "colab": {
          "base_uri": "https://localhost:8080/"
        },
        "id": "nhlMcjO5EvVO",
        "outputId": "adb4a3a6-041b-4db6-ec98-0bd1b77203dc"
      },
      "source": [
        "!mpicc -showme"
      ],
      "execution_count": 13,
      "outputs": [
        {
          "output_type": "stream",
          "text": [
            "gcc -I/usr/lib/x86_64-linux-gnu/openmpi/include/openmpi -I/usr/lib/x86_64-linux-gnu/openmpi/include/openmpi/opal/mca/event/libevent2022/libevent -I/usr/lib/x86_64-linux-gnu/openmpi/include/openmpi/opal/mca/event/libevent2022/libevent/include -I/usr/lib/x86_64-linux-gnu/openmpi/include -pthread -L/usr//lib -L/usr/lib/x86_64-linux-gnu/openmpi/lib -lmpi\n"
          ],
          "name": "stdout"
        }
      ]
    },
    {
      "cell_type": "code",
      "metadata": {
        "colab": {
          "base_uri": "https://localhost:8080/"
        },
        "id": "NHelbTR2_aDO",
        "outputId": "ff1dfdb0-dd27-4b86-cc3d-856e36cc7b7b"
      },
      "source": [
        "code=\"\"\"\n",
        "#include <mpi.h>\n",
        "#include <stdio.h>\n",
        "\n",
        "int main() {\n",
        "    // Initialize the MPI environment\n",
        "    MPI_Init(NULL, NULL);\n",
        "\n",
        "    // Get the number of processes\n",
        "    int world_size;\n",
        "    MPI_Comm_size(MPI_COMM_WORLD, &world_size);\n",
        "\n",
        "    // Get the rank of the process\n",
        "    int world_rank;\n",
        "    MPI_Comm_rank(MPI_COMM_WORLD, &world_rank);\n",
        "\n",
        "    // Get the name of the processor\n",
        "    char processor_name[MPI_MAX_PROCESSOR_NAME];\n",
        "    int name_len;\n",
        "    MPI_Get_processor_name(processor_name, &name_len);\n",
        "\n",
        "    // Print off a hello world message\n",
        "    printf(\"Hello world from processor %s, rank %d out of %d processors\\\\n\",\n",
        "           processor_name, world_rank, world_size);\n",
        "\n",
        "    // Finalize the MPI environment.\n",
        "    MPI_Finalize();\n",
        "}\n",
        "\"\"\"\n",
        "\n",
        "#creando un archivo para guardar el código\n",
        "text_file = open(\"codeA.c\", \"w\")\n",
        "\n",
        "#Guardar el code en el text_file\n",
        "text_file.write(code)\n",
        "\n",
        "#cerrar el archivo text_file\n",
        "text_file.close()\n",
        "\n",
        "#definir cuantos hilos se van a usar\n",
        "%env OMP_NUM_THREADS = 12\n",
        "\n",
        "#ejecutar nuestro código paralelo llamado codeA\n",
        "!mpicc codeA.c -o mpi\n",
        "!mpirun --allow-run-as-root -np 12 mpi "
      ],
      "execution_count": 22,
      "outputs": [
        {
          "output_type": "stream",
          "text": [
            "env: OMP_NUM_THREADS=12\n",
            "Hello world from processor b1e3d8427aa8, rank 11 out of 12 processors\n",
            "Hello world from processor b1e3d8427aa8, rank 3 out of 12 processors\n",
            "Hello world from processor b1e3d8427aa8, rank 5 out of 12 processors\n",
            "Hello world from processor b1e3d8427aa8, rank 6 out of 12 processors\n",
            "Hello world from processor b1e3d8427aa8, rank 4 out of 12 processors\n",
            "Hello world from processor b1e3d8427aa8, rank 2 out of 12 processors\n",
            "Hello world from processor b1e3d8427aa8, rank 1 out of 12 processors\n",
            "Hello world from processor b1e3d8427aa8, rank 10 out of 12 processors\n",
            "Hello world from processor b1e3d8427aa8, rank 7 out of 12 processors\n",
            "Hello world from processor b1e3d8427aa8, rank 9 out of 12 processors\n",
            "Hello world from processor b1e3d8427aa8, rank 0 out of 12 processors\n",
            "Hello world from processor b1e3d8427aa8, rank 8 out of 12 processors\n"
          ],
          "name": "stdout"
        }
      ]
    }
  ]
}