{
  "nbformat": 4,
  "nbformat_minor": 0,
  "metadata": {
    "colab": {
      "name": "Copia de p1g3.ipynb",
      "provenance": [],
      "include_colab_link": true
    },
    "kernelspec": {
      "name": "python3",
      "display_name": "Python 3"
    }
  },
  "cells": [
    {
      "cell_type": "markdown",
      "metadata": {
        "id": "view-in-github",
        "colab_type": "text"
      },
      "source": [
        "<a href=\"https://colab.research.google.com/github/jhno-code/2020-2/blob/main/Practica1-Paralelas.ipynb\" target=\"_parent\"><img src=\"https://colab.research.google.com/assets/colab-badge.svg\" alt=\"Open In Colab\"/></a>"
      ]
    },
    {
      "cell_type": "code",
      "metadata": {
        "colab": {
          "base_uri": "https://localhost:8080/"
        },
        "id": "iHZGa7n9F-Y9",
        "outputId": "21478008-bd3c-41fb-d5f8-87f0c791f444"
      },
      "source": [
        "code = '''\r\n",
        "#include \"omp.h\"\r\n",
        "#include <time.h>\r\n",
        "#include <stdlib.h>\r\n",
        "#include <iostream>\r\n",
        "\r\n",
        "using namespace std;\r\n",
        "\r\n",
        "\r\n",
        "int main(int argc, char const *argv[])\r\n",
        "{\r\n",
        "  int i, j;\r\n",
        "  srand(time(0));\r\n",
        "  int n = 5;\r\n",
        "  cout << \"valor de n =  \" << n << endl;\r\n",
        "  \r\n",
        "  //--crea las matrices n x n\r\n",
        "  int **matriz_a = new int*[n];\r\n",
        "\r\n",
        "  for (int i = 0; i < n; i++) \r\n",
        "  {\r\n",
        "    matriz_a[i] = new int[n];\r\n",
        "  }\r\n",
        "  int **matriz_b = new int*[n];\r\n",
        "  for (int i = 0; i < n; i++) \r\n",
        "  {\r\n",
        "    matriz_b[i] = new int[n];\r\n",
        "  }\r\n",
        "  int **matriz_c = new int*[n];\r\n",
        "  for (int i = 0; i < n; i++) \r\n",
        "  {\r\n",
        "    matriz_c[i] = new int[n];\r\n",
        "  }\r\n",
        "  //--llena las matrices a y b con valores aleatorios\r\n",
        "  for (i = 0; i < n; i++)\r\n",
        "  {\r\n",
        "    for (j = 0; j < n; j++)\r\n",
        "    {\r\n",
        "      matriz_a[i][j] = (rand() % 4) + 1;\r\n",
        "      matriz_b[i][j] = (rand() % 4) + 1;\r\n",
        "    }\r\n",
        "  }\r\n",
        " \r\n",
        "  /* muestra la matriz_a */\r\n",
        "  for (i = 0; i < n; i++)\r\n",
        "  {\r\n",
        "    for (j = 0; j < n; j++)\r\n",
        "    {\r\n",
        "    printf(\"%d \", matriz_a[i][j]);\r\n",
        "    }\r\n",
        "    printf(\"\\\\n\");\r\n",
        "  }\r\n",
        "  printf(\"\\\\n\");\r\n",
        " \r\n",
        "  /* muestra la matriz_b*/\r\n",
        "  for (i = 0; i < n; i++)\r\n",
        "  {\r\n",
        "    for (j = 0; j < n; j++)\r\n",
        "    {\r\n",
        "      printf(\"%d \", matriz_b[i][j]);\r\n",
        "    }\r\n",
        "  printf(\"\\\\n\");\r\n",
        "  }\r\n",
        " \r\n",
        "  printf(\"\\\\n\");\r\n",
        "  /* realizar la multiplicación en paralelo */\r\n",
        " \r\n",
        "  #pragma omp parallel\r\n",
        "  {\r\n",
        "    int i, j, k, suma;\r\n",
        "    #pragma omp for private(i, suma) //Variable i y variable suma como privados\r\n",
        "    for (i = 0; i < n; i++)\r\n",
        "    {\r\n",
        "      for (j = 0; j < n; j++)\r\n",
        "      {\r\n",
        "        suma = 0;\r\n",
        "        for (k = 0; k < n; k++)\r\n",
        "        {\r\n",
        "          suma += (matriz_a[i][k] * matriz_b[k][j]);\r\n",
        "        }\r\n",
        "        matriz_c[i][j] = suma;\r\n",
        "      }\r\n",
        "    }\r\n",
        "  }\r\n",
        " \r\n",
        "  //-- muestra la matriz_c de resultados\r\n",
        "  for (i = 0; i < n; i++) \r\n",
        "  {\r\n",
        "    for (j = 0; j < n; j++) \r\n",
        "    {\r\n",
        "      printf(\"%d \", matriz_c[i][j]);\r\n",
        "    }\r\n",
        "    printf(\"\\\\n\");\r\n",
        "  }\r\n",
        " \r\n",
        "  system(\"PAUSE\");\r\n",
        "  return 0;\r\n",
        "}'''\r\n",
        "\r\n",
        "text_file = open(\"code.cpp\", \"w\")\r\n",
        "text_file.write(code)\r\n",
        "text_file.close()\r\n",
        "%env OMP_NUM_THREADS = 20\r\n",
        "!g++ -o code code.cpp -fopenmp \r\n",
        "!./code"
      ],
      "execution_count": 18,
      "outputs": [
        {
          "output_type": "stream",
          "text": [
            "env: OMP_NUM_THREADS=20\n",
            "valor de n =  5\n",
            "1 3 2 3 2 \n",
            "3 1 1 4 3 \n",
            "1 2 3 3 3 \n",
            "2 4 1 4 4 \n",
            "2 4 3 3 2 \n",
            "\n",
            "3 3 1 4 3 \n",
            "3 1 2 3 3 \n",
            "4 3 3 1 1 \n",
            "3 4 1 3 2 \n",
            "2 2 4 2 2 \n",
            "\n",
            "33 28 24 28 24 \n",
            "34 35 24 34 27 \n",
            "36 32 29 28 24 \n",
            "42 37 33 41 35 \n",
            "43 35 30 36 31 \n",
            "sh: 1: PAUSE: not found\n"
          ],
          "name": "stdout"
        }
      ]
    },
    {
      "cell_type": "code",
      "metadata": {
        "id": "vtSvb3BiTH3U",
        "outputId": "47f2f04b-2705-4dc4-ef6c-71601537e171",
        "colab": {
          "base_uri": "https://localhost:8080/"
        }
      },
      "source": [
        "!nvidia-smi"
      ],
      "execution_count": 19,
      "outputs": [
        {
          "output_type": "stream",
          "text": [
            "NVIDIA-SMI has failed because it couldn't communicate with the NVIDIA driver. Make sure that the latest NVIDIA driver is installed and running.\n",
            "\n"
          ],
          "name": "stdout"
        }
      ]
    },
    {
      "cell_type": "code",
      "metadata": {
        "id": "Qyk6fkuLTM6x",
        "outputId": "53ba63d5-6447-4dd0-f8dc-6b690b9db74c",
        "colab": {
          "base_uri": "https://localhost:8080/"
        }
      },
      "source": [
        "!cat /proc/cpuinfo"
      ],
      "execution_count": 20,
      "outputs": [
        {
          "output_type": "stream",
          "text": [
            "processor\t: 0\n",
            "vendor_id\t: GenuineIntel\n",
            "cpu family\t: 6\n",
            "model\t\t: 85\n",
            "model name\t: Intel(R) Xeon(R) CPU @ 2.00GHz\n",
            "stepping\t: 3\n",
            "microcode\t: 0x1\n",
            "cpu MHz\t\t: 2000.000\n",
            "cache size\t: 39424 KB\n",
            "physical id\t: 0\n",
            "siblings\t: 2\n",
            "core id\t\t: 0\n",
            "cpu cores\t: 1\n",
            "apicid\t\t: 0\n",
            "initial apicid\t: 0\n",
            "fpu\t\t: yes\n",
            "fpu_exception\t: yes\n",
            "cpuid level\t: 13\n",
            "wp\t\t: yes\n",
            "flags\t\t: fpu vme de pse tsc msr pae mce cx8 apic sep mtrr pge mca cmov pat pse36 clflush mmx fxsr sse sse2 ss ht syscall nx pdpe1gb rdtscp lm constant_tsc rep_good nopl xtopology nonstop_tsc cpuid tsc_known_freq pni pclmulqdq ssse3 fma cx16 pcid sse4_1 sse4_2 x2apic movbe popcnt aes xsave avx f16c rdrand hypervisor lahf_lm abm 3dnowprefetch invpcid_single ssbd ibrs ibpb stibp fsgsbase tsc_adjust bmi1 hle avx2 smep bmi2 erms invpcid rtm mpx avx512f avx512dq rdseed adx smap clflushopt clwb avx512cd avx512bw avx512vl xsaveopt xsavec xgetbv1 xsaves arat md_clear arch_capabilities\n",
            "bugs\t\t: cpu_meltdown spectre_v1 spectre_v2 spec_store_bypass l1tf mds swapgs taa\n",
            "bogomips\t: 4000.00\n",
            "clflush size\t: 64\n",
            "cache_alignment\t: 64\n",
            "address sizes\t: 46 bits physical, 48 bits virtual\n",
            "power management:\n",
            "\n",
            "processor\t: 1\n",
            "vendor_id\t: GenuineIntel\n",
            "cpu family\t: 6\n",
            "model\t\t: 85\n",
            "model name\t: Intel(R) Xeon(R) CPU @ 2.00GHz\n",
            "stepping\t: 3\n",
            "microcode\t: 0x1\n",
            "cpu MHz\t\t: 2000.000\n",
            "cache size\t: 39424 KB\n",
            "physical id\t: 0\n",
            "siblings\t: 2\n",
            "core id\t\t: 0\n",
            "cpu cores\t: 1\n",
            "apicid\t\t: 1\n",
            "initial apicid\t: 1\n",
            "fpu\t\t: yes\n",
            "fpu_exception\t: yes\n",
            "cpuid level\t: 13\n",
            "wp\t\t: yes\n",
            "flags\t\t: fpu vme de pse tsc msr pae mce cx8 apic sep mtrr pge mca cmov pat pse36 clflush mmx fxsr sse sse2 ss ht syscall nx pdpe1gb rdtscp lm constant_tsc rep_good nopl xtopology nonstop_tsc cpuid tsc_known_freq pni pclmulqdq ssse3 fma cx16 pcid sse4_1 sse4_2 x2apic movbe popcnt aes xsave avx f16c rdrand hypervisor lahf_lm abm 3dnowprefetch invpcid_single ssbd ibrs ibpb stibp fsgsbase tsc_adjust bmi1 hle avx2 smep bmi2 erms invpcid rtm mpx avx512f avx512dq rdseed adx smap clflushopt clwb avx512cd avx512bw avx512vl xsaveopt xsavec xgetbv1 xsaves arat md_clear arch_capabilities\n",
            "bugs\t\t: cpu_meltdown spectre_v1 spectre_v2 spec_store_bypass l1tf mds swapgs taa\n",
            "bogomips\t: 4000.00\n",
            "clflush size\t: 64\n",
            "cache_alignment\t: 64\n",
            "address sizes\t: 46 bits physical, 48 bits virtual\n",
            "power management:\n",
            "\n"
          ],
          "name": "stdout"
        }
      ]
    }
  ]
}