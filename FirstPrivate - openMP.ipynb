{
  "nbformat": 4,
  "nbformat_minor": 0,
  "metadata": {
    "colab": {
      "name": "Intro - openMP.ipynb",
      "provenance": [],
      "include_colab_link": true
    },
    "kernelspec": {
      "name": "python3",
      "display_name": "Python 3"
    }
  },
  "cells": [
    {
      "cell_type": "markdown",
      "metadata": {
        "id": "view-in-github",
        "colab_type": "text"
      },
      "source": [
        "<a href=\"https://colab.research.google.com/github/jhno-code/2020-2/blob/main/FirstPrivate%20-%20openMP.ipynb\" target=\"_parent\"><img src=\"https://colab.research.google.com/assets/colab-badge.svg\" alt=\"Open In Colab\"/></a>"
      ]
    },
    {
      "cell_type": "markdown",
      "metadata": {
        "id": "cHiXkuKH8Nwx"
      },
      "source": [
        "\n",
        "\n",
        "---\n",
        "\n",
        "\n",
        "**FIRSTPRIVATE**\n",
        "\n",
        "\n",
        "---\n",
        "\n",
        "\n",
        "Primer código <br>\n",
        "indx como variable **firstprivate**"
      ]
    },
    {
      "cell_type": "code",
      "metadata": {
        "colab": {
          "base_uri": "https://localhost:8080/"
        },
        "id": "u2hvpoKdykt6",
        "outputId": "5c94ca1b-2cd7-4522-c68a-74ef7c42d43d"
      },
      "source": [
        "code=\"\"\"\n",
        "#include <omp.h>\n",
        "#include <stdlib.h>\n",
        "#include <stdio.h>\n",
        "\n",
        "\n",
        "int main(int argc, char* argv[])\n",
        "{\n",
        "  int TID, i;\n",
        "  int n = 2;                            // datos a editar por hilo\n",
        "  int indx = 4;                         // índice de inicio\n",
        "  int vlen = 12;              // longitud del arreglo\n",
        "\n",
        "  int a[vlen];\n",
        "  for(i=0; i < vlen; i++) a[i] = -i-1;  // a = [-1, -2, -3, ...]\n",
        "\n",
        "  #pragma omp parallel firstprivate(indx) private(i,TID) shared(n,a)\n",
        "  {\n",
        "      TID = omp_get_thread_num();       // obtener numero de hilo\n",
        "      indx = indx + n*TID;              // indice de inicio para cada hilo\n",
        "\n",
        "      for(i=indx; i<indx+n; i++)        // Cambiar valores de \"a\"\n",
        "          a[i] = TID;\n",
        "  } /*-- End of parallel region --*/\n",
        "\n",
        "  printf(\"Despues de la región paralela:\\\\n\");\n",
        "  for (i=0; i<vlen; i++)\n",
        "    printf(\"a[%d] = %d\\\\n\",i,a[i]);     // imprimir elementos de \"a\"\n",
        "  return 0;\n",
        "}\n",
        "\"\"\"\n",
        "\n",
        "text_file = open(\"codeB.c\", \"w\")\n",
        "text_file.write(code)\n",
        "text_file.close()\n",
        "%env OMP_NUM_THREADS=4\n",
        "!gcc -o Ejecutar -fopenmp codeB.c\n",
        "!./Ejecutar"
      ],
      "execution_count": null,
      "outputs": [
        {
          "output_type": "stream",
          "text": [
            "env: OMP_NUM_THREADS=4\n",
            "Despues de la región paralela:\n",
            "a[0] = -1\n",
            "a[1] = -2\n",
            "a[2] = -3\n",
            "a[3] = -4\n",
            "a[4] = 0\n",
            "a[5] = 0\n",
            "a[6] = 1\n",
            "a[7] = 1\n",
            "a[8] = 2\n",
            "a[9] = 2\n",
            "a[10] = 3\n",
            "a[11] = 3\n"
          ],
          "name": "stdout"
        }
      ]
    },
    {
      "cell_type": "markdown",
      "metadata": {
        "id": "amsGoYcK8bx4"
      },
      "source": [
        "Segundo código\n",
        "indx como **private**"
      ]
    },
    {
      "cell_type": "code",
      "metadata": {
        "id": "OW3r4AMq8jM-",
        "colab": {
          "base_uri": "https://localhost:8080/"
        },
        "outputId": "a166c416-cf6c-415a-c126-4449470cd28b"
      },
      "source": [
        "code=\"\"\"\n",
        "#include <omp.h>\n",
        "#include <stdlib.h>\n",
        "#include <stdio.h>\n",
        "\n",
        "\n",
        "int main(int argc, char* argv[])\n",
        "{\n",
        "  int TID, i, vlen, indx, n = 2, offset = 4;\n",
        "  vlen = offset + n * 4;\n",
        "\n",
        "  int a[vlen];\n",
        "  for(int i=0; i < vlen; i++) a[i] = -i-1;  // a = [-1, -2, -3, ...]\n",
        "\n",
        "  #pragma omp parallel private(i,TID,indx) shared(n,offset,a)\n",
        "  {\n",
        "    TID = omp_get_thread_num();\n",
        "    indx = offset + n*TID;\n",
        "\n",
        "    for(i=indx; i<indx+n; i++)\n",
        "        a[i] = TID;\n",
        "    } /*-- End of parallel region --*/\n",
        "\n",
        "  printf(\"Despues de la región paralela:\\\\n\");\n",
        "  for (i=0; i<vlen; i++)\n",
        "    printf(\"a[%d] = %d\\\\n\",i,a[i]);     // imprimir elementos de \"a\"\n",
        "  return 0;\n",
        "}\n",
        "\"\"\"\n",
        "\n",
        "text_file = open(\"codeB.c\", \"w\")\n",
        "text_file.write(code)\n",
        "text_file.close()\n",
        "%env OMP_NUM_THREADS=4\n",
        "!gcc -o Ejecutar -fopenmp codeB.c\n",
        "!./Ejecutar"
      ],
      "execution_count": null,
      "outputs": [
        {
          "output_type": "stream",
          "text": [
            "env: OMP_NUM_THREADS=4\n",
            "Despues de la región paralela:\n",
            "a[0] = -1\n",
            "a[1] = -2\n",
            "a[2] = -3\n",
            "a[3] = -4\n",
            "a[4] = 0\n",
            "a[5] = 0\n",
            "a[6] = 1\n",
            "a[7] = 1\n",
            "a[8] = 2\n",
            "a[9] = 2\n",
            "a[10] = 3\n",
            "a[11] = 3\n"
          ],
          "name": "stdout"
        }
      ]
    },
    {
      "cell_type": "markdown",
      "metadata": {
        "id": "ghdRMYC0_aXc"
      },
      "source": [
        "**firstprivate** y **shared** son parecidos, la diferencia radica en que las variables de **shared** se comparten por todos los hilos a diferencia de **firstprivate** donde cada hilo hace una copia de la variable."
      ]
    },
    {
      "cell_type": "markdown",
      "metadata": {
        "id": "h-vzll9SBSs1"
      },
      "source": [
        "\r\n",
        "\r\n",
        "---\r\n",
        "\r\n"
      ]
    },
    {
      "cell_type": "code",
      "metadata": {
        "colab": {
          "base_uri": "https://localhost:8080/"
        },
        "id": "LC1HHFUx2sS4",
        "outputId": "5878bf41-ee83-4d01-c774-5424aa0da91f"
      },
      "source": [
        "code=\"\"\"\r\n",
        "#include <omp.h>\r\n",
        "#include <stdlib.h>\r\n",
        "#include <stdio.h>\r\n",
        "\r\n",
        "\r\n",
        "int main(int argc, char* argv[])\r\n",
        "{\r\n",
        "  int x = 0, y = 0, z = 0;\r\n",
        "\r\n",
        "  #pragma omp parallel private(x) firstprivate(z)\r\n",
        "  {\r\n",
        "    printf(\"x: %i, y: %i, z: %i\\\\n\", x,y,z);\r\n",
        "    x = 1;\r\n",
        "    y = 1;\r\n",
        "    z = 1;\r\n",
        "    printf(\"x: %i, y: %i, z: %i\\\\n\", x,y,z);\r\n",
        "  } /*-- End of parallel region --*/\r\n",
        "\r\n",
        "  printf(\"x: %i, y: %i, z: %i\\\\n\", x,y,z);\r\n",
        "  return 0;\r\n",
        "}\r\n",
        "\"\"\"\r\n",
        "\r\n",
        "text_file = open(\"codeB.c\", \"w\")\r\n",
        "text_file.write(code)\r\n",
        "text_file.close()\r\n",
        "%env OMP_NUM_THREADS=4\r\n",
        "!gcc -o Ejecutar -fopenmp codeB.c\r\n",
        "!./Ejecutar"
      ],
      "execution_count": 10,
      "outputs": [
        {
          "output_type": "stream",
          "text": [
            "env: OMP_NUM_THREADS=4\n",
            "x: 0, y: 0, z: 0\n",
            "x: 1, y: 1, z: 1\n",
            "x: 0, y: 0, z: 0\n",
            "x: 1, y: 1, z: 1\n",
            "x: 0, y: 1, z: 0\n",
            "x: 1, y: 1, z: 1\n",
            "x: 0, y: 1, z: 0\n",
            "x: 1, y: 1, z: 1\n",
            "x: 0, y: 1, z: 0\n"
          ],
          "name": "stdout"
        }
      ]
    },
    {
      "cell_type": "markdown",
      "metadata": {
        "id": "L9HQeJFIBWKD"
      },
      "source": [
        "\r\n",
        "\r\n",
        "---\r\n",
        "\r\n",
        "**LastPrivate**"
      ]
    },
    {
      "cell_type": "code",
      "metadata": {
        "colab": {
          "base_uri": "https://localhost:8080/"
        },
        "id": "lV3XL6-5-9Uw",
        "outputId": "e1a8acf3-44c9-49ff-9022-dc68fd30838f"
      },
      "source": [
        "code=\"\"\"\r\n",
        "#include <omp.h>\r\n",
        "#include <stdlib.h>\r\n",
        "#include <stdio.h>\r\n",
        "\r\n",
        "\r\n",
        "int main(int argc, char* argv[])\r\n",
        "{\r\n",
        "  int i, a, n = 5;\r\n",
        "  #pragma omp parallel for private(i) lastprivate(a)\r\n",
        "  for (i=0; i<n; i++)\r\n",
        "    {\r\n",
        "      a = i+1;\r\n",
        "      printf(\"Thread %d has a value of a = %d for i = %d\\\\n\", omp_get_thread_num(),a,i);\r\n",
        "    } /*-- End of parallel for --*/\r\n",
        "    printf(\"Value of a after parallel for: a = %d\\\\n\",a);\r\n",
        "  }\r\n",
        "\"\"\"\r\n",
        "\r\n",
        "text_file = open(\"codeB.c\", \"w\")\r\n",
        "text_file.write(code)\r\n",
        "text_file.close()\r\n",
        "%env OMP_NUM_THREADS=4\r\n",
        "!gcc -o Ejecutar -fopenmp codeB.c\r\n",
        "!./Ejecutar"
      ],
      "execution_count": 42,
      "outputs": [
        {
          "output_type": "stream",
          "text": [
            "env: OMP_NUM_THREADS=4\n",
            "Thread 0 has a value of a = 1 for i = 0\n",
            "Thread 0 has a value of a = 2 for i = 1\n",
            "Thread 2 has a value of a = 4 for i = 3\n",
            "Thread 3 has a value of a = 5 for i = 4\n",
            "Thread 1 has a value of a = 3 for i = 2\n",
            "Value of a after parallel for: a = 5\n"
          ],
          "name": "stdout"
        }
      ]
    }
  ]
}