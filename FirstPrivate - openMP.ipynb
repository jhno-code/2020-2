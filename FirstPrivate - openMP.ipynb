{
  "nbformat": 4,
  "nbformat_minor": 0,
  "metadata": {
    "colab": {
      "name": "Intro - openMP.ipynb",
      "provenance": [],
      "include_colab_link": true
    },
    "kernelspec": {
      "name": "python3",
      "display_name": "Python 3"
    }
  },
  "cells": [
    {
      "cell_type": "markdown",
      "metadata": {
        "id": "view-in-github",
        "colab_type": "text"
      },
      "source": [
        "<a href=\"https://colab.research.google.com/github/jhno-code/2020-2/blob/main/FirstPrivate%20-%20openMP.ipynb\" target=\"_parent\"><img src=\"https://colab.research.google.com/assets/colab-badge.svg\" alt=\"Open In Colab\"/></a>"
      ]
    },
    {
      "cell_type": "markdown",
      "metadata": {
        "id": "cHiXkuKH8Nwx"
      },
      "source": [
        "\n",
        "\n",
        "---\n",
        "\n",
        "\n",
        "**FIRSTPRIVATE**\n",
        "\n",
        "\n",
        "---\n",
        "\n",
        "\n",
        "Primer código <br>\n",
        "indx como variable **firstprivate**"
      ]
    },
    {
      "cell_type": "code",
      "metadata": {
        "colab": {
          "base_uri": "https://localhost:8080/"
        },
        "id": "u2hvpoKdykt6",
        "outputId": "5c94ca1b-2cd7-4522-c68a-74ef7c42d43d"
      },
      "source": [
        "code=\"\"\"\n",
        "#include <omp.h>\n",
        "#include <stdlib.h>\n",
        "#include <stdio.h>\n",
        "\n",
        "\n",
        "int main(int argc, char* argv[])\n",
        "{\n",
        "  int TID, i;\n",
        "  int n = 2;                            // datos a editar por hilo\n",
        "  int indx = 4;                         // índice de inicio\n",
        "  int vlen = 12;              // longitud del arreglo\n",
        "\n",
        "  int a[vlen];\n",
        "  for(i=0; i < vlen; i++) a[i] = -i-1;  // a = [-1, -2, -3, ...]\n",
        "\n",
        "  #pragma omp parallel firstprivate(indx) private(i,TID) shared(n,a)\n",
        "  {\n",
        "      TID = omp_get_thread_num();       // obtener numero de hilo\n",
        "      indx = indx + n*TID;              // indice de inicio para cada hilo\n",
        "\n",
        "      for(i=indx; i<indx+n; i++)        // Cambiar valores de \"a\"\n",
        "          a[i] = TID;\n",
        "  } /*-- End of parallel region --*/\n",
        "\n",
        "  printf(\"Despues de la región paralela:\\\\n\");\n",
        "  for (i=0; i<vlen; i++)\n",
        "    printf(\"a[%d] = %d\\\\n\",i,a[i]);     // imprimir elementos de \"a\"\n",
        "  return 0;\n",
        "}\n",
        "\"\"\"\n",
        "\n",
        "text_file = open(\"codeB.c\", \"w\")\n",
        "text_file.write(code)\n",
        "text_file.close()\n",
        "%env OMP_NUM_THREADS=4\n",
        "!gcc -o Ejecutar -fopenmp codeB.c\n",
        "!./Ejecutar"
      ],
      "execution_count": 29,
      "outputs": [
        {
          "output_type": "stream",
          "text": [
            "env: OMP_NUM_THREADS=4\n",
            "Despues de la región paralela:\n",
            "a[0] = -1\n",
            "a[1] = -2\n",
            "a[2] = -3\n",
            "a[3] = -4\n",
            "a[4] = 0\n",
            "a[5] = 0\n",
            "a[6] = 1\n",
            "a[7] = 1\n",
            "a[8] = 2\n",
            "a[9] = 2\n",
            "a[10] = 3\n",
            "a[11] = 3\n"
          ],
          "name": "stdout"
        }
      ]
    },
    {
      "cell_type": "markdown",
      "metadata": {
        "id": "amsGoYcK8bx4"
      },
      "source": [
        "Segundo código\n",
        "indx como **private**"
      ]
    },
    {
      "cell_type": "code",
      "metadata": {
        "id": "OW3r4AMq8jM-",
        "colab": {
          "base_uri": "https://localhost:8080/"
        },
        "outputId": "a166c416-cf6c-415a-c126-4449470cd28b"
      },
      "source": [
        "code=\"\"\"\n",
        "#include <omp.h>\n",
        "#include <stdlib.h>\n",
        "#include <stdio.h>\n",
        "\n",
        "\n",
        "int main(int argc, char* argv[])\n",
        "{\n",
        "  int TID, i, vlen, indx, n = 2, offset = 4;\n",
        "  vlen = offset + n * 4;\n",
        "\n",
        "  int a[vlen];\n",
        "  for(int i=0; i < vlen; i++) a[i] = -i-1;  // a = [-1, -2, -3, ...]\n",
        "\n",
        "  #pragma omp parallel private(i,TID,indx) shared(n,offset,a)\n",
        "  {\n",
        "    TID = omp_get_thread_num();\n",
        "    indx = offset + n*TID;\n",
        "\n",
        "    for(i=indx; i<indx+n; i++)\n",
        "        a[i] = TID;\n",
        "    } /*-- End of parallel region --*/\n",
        "\n",
        "  printf(\"Despues de la región paralela:\\\\n\");\n",
        "  for (i=0; i<vlen; i++)\n",
        "    printf(\"a[%d] = %d\\\\n\",i,a[i]);     // imprimir elementos de \"a\"\n",
        "  return 0;\n",
        "}\n",
        "\"\"\"\n",
        "\n",
        "text_file = open(\"codeB.c\", \"w\")\n",
        "text_file.write(code)\n",
        "text_file.close()\n",
        "%env OMP_NUM_THREADS=4\n",
        "!gcc -o Ejecutar -fopenmp codeB.c\n",
        "!./Ejecutar"
      ],
      "execution_count": 25,
      "outputs": [
        {
          "output_type": "stream",
          "text": [
            "env: OMP_NUM_THREADS=4\n",
            "Despues de la región paralela:\n",
            "a[0] = -1\n",
            "a[1] = -2\n",
            "a[2] = -3\n",
            "a[3] = -4\n",
            "a[4] = 0\n",
            "a[5] = 0\n",
            "a[6] = 1\n",
            "a[7] = 1\n",
            "a[8] = 2\n",
            "a[9] = 2\n",
            "a[10] = 3\n",
            "a[11] = 3\n"
          ],
          "name": "stdout"
        }
      ]
    },
    {
      "cell_type": "markdown",
      "metadata": {
        "id": "ghdRMYC0_aXc"
      },
      "source": [
        "**firstprivate** y **shared** son parecidos, la diferencia radica en que las variables de **shared** se comparten por todos los hilos a diferencia de **firstprivate** donde cada hilo hace una copia de la variable."
      ]
    }
  ]
}